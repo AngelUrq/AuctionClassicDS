{
 "cells": [
  {
   "cell_type": "code",
   "execution_count": null,
   "id": "e252cfd8-3ea2-40b9-841c-784e75209f25",
   "metadata": {},
   "outputs": [],
   "source": [
    "import pandas as pd\n",
    "import numpy as np\n",
    "import os\n",
    "import json\n",
    "import pyodbc\n",
    "import csv\n",
    "\n",
    "from etl.load_data import create_access_token"
   ]
  },
  {
   "cell_type": "markdown",
   "id": "550357fd-ec4d-4b70-8079-bc012abcad30",
   "metadata": {
    "tags": []
   },
   "source": [
    "## Retrieve most recent data"
   ]
  },
  {
   "cell_type": "code",
   "execution_count": null,
   "id": "b45c23ad-14af-41bf-8225-b79f44b57bdb",
   "metadata": {},
   "outputs": [],
   "source": [
    "def get_data(sql, config):\n",
    "    conn = pyodbc.connect('DRIVER={ODBC Driver 17 for SQL Server};SERVER=' + config['db_host'] +';DATABASE=' + config['db_name'] +';UID='+config['db_user'] +';PWD='+ config['db_password'] )\n",
    "    cursor = conn.cursor()\n",
    "\n",
    "    cursor.execute(sql)\n",
    "\n",
    "    result = cursor.fetchall()\n",
    "\n",
    "    headers = [column[0] for column in cursor.description]\n",
    "    \n",
    "    cursor.close()\n",
    "    conn.close()\n",
    "    \n",
    "    return result, headers"
   ]
  },
  {
   "cell_type": "code",
   "execution_count": null,
   "id": "fe46f7e8-91a7-40a7-b8ab-3d4ed7385cd0",
   "metadata": {},
   "outputs": [],
   "source": [
    "with open('etl/config.json') as json_data:\n",
    "    config = json.load(json_data)\n",
    "\n",
    "with open(\"sql/get_data.sql\", \"r\") as f:\n",
    "    sql = f.read()"
   ]
  },
  {
   "cell_type": "code",
   "execution_count": null,
   "id": "8f166d58-c9ba-4618-9de2-c303f771ffea",
   "metadata": {},
   "outputs": [],
   "source": [
    "result, headers = get_data(sql, config)"
   ]
  },
  {
   "cell_type": "code",
   "execution_count": null,
   "id": "229b2bdf-d2f9-44b3-94e6-dc0e28c11e9d",
   "metadata": {},
   "outputs": [],
   "source": [
    "with open('auction_data.csv', 'w', newline='') as out:\n",
    "    csv_out = csv.writer(out)\n",
    "    csv_out.writerow(headers)\n",
    "    for row in result:\n",
    "        csv_out.writerow(row)"
   ]
  }
 ],
 "metadata": {
  "kernelspec": {
   "display_name": "Python 3",
   "language": "python",
   "name": "python3"
  },
  "language_info": {
   "codemirror_mode": {
    "name": "ipython",
    "version": 3
   },
   "file_extension": ".py",
   "mimetype": "text/x-python",
   "name": "python",
   "nbconvert_exporter": "python",
   "pygments_lexer": "ipython3",
   "version": "3.8.8"
  }
 },
 "nbformat": 4,
 "nbformat_minor": 5
}
