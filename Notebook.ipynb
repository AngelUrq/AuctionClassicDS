{
 "cells": [
  {
   "cell_type": "code",
   "execution_count": 1,
   "id": "e252cfd8-3ea2-40b9-841c-784e75209f25",
   "metadata": {},
   "outputs": [],
   "source": [
    "import pandas as pd\n",
    "import numpy as np\n",
    "import os\n",
    "import json\n",
    "import pyodbc\n",
    "import csv\n",
    "import seaborn as sns\n",
    "import matplotlib.pyplot as plt\n",
    "\n",
    "from sklearn.pipeline import make_pipeline\n",
    "from sklearn.model_selection import cross_val_score\n",
    "from etl.load_data import create_access_token\n",
    "from etl.load_data import get_auction_data"
   ]
  },
  {
   "cell_type": "markdown",
   "id": "550357fd-ec4d-4b70-8079-bc012abcad30",
   "metadata": {
    "tags": []
   },
   "source": [
    "## Retrieve most recent data"
   ]
  },
  {
   "cell_type": "code",
   "execution_count": 2,
   "id": "b45c23ad-14af-41bf-8225-b79f44b57bdb",
   "metadata": {},
   "outputs": [],
   "source": [
    "def get_data(sql, config):\n",
    "    conn = pyodbc.connect('DRIVER={ODBC Driver 17 for SQL Server};SERVER=' + config['db_host'] +';DATABASE=' + config['db_name'] +';UID='+config['db_user'] +';PWD='+ config['db_password'] )\n",
    "    cursor = conn.cursor()\n",
    "\n",
    "    cursor.execute(sql)\n",
    "\n",
    "    result = cursor.fetchall()\n",
    "\n",
    "    headers = [column[0] for column in cursor.description]\n",
    "    \n",
    "    cursor.close()\n",
    "    conn.close()\n",
    "    \n",
    "    return result, headers"
   ]
  },
  {
   "cell_type": "code",
   "execution_count": 3,
   "id": "fe46f7e8-91a7-40a7-b8ab-3d4ed7385cd0",
   "metadata": {},
   "outputs": [],
   "source": [
    "with open('etl/config.json') as json_data:\n",
    "    config = json.load(json_data)\n",
    "\n",
    "with open(\"sql/get_data.sql\", \"r\") as f:\n",
    "    sql = f.read()"
   ]
  },
  {
   "cell_type": "code",
   "execution_count": null,
   "id": "8f166d58-c9ba-4618-9de2-c303f771ffea",
   "metadata": {},
   "outputs": [],
   "source": [
    "result, headers = get_data(sql, config)"
   ]
  },
  {
   "cell_type": "code",
   "execution_count": null,
   "id": "229b2bdf-d2f9-44b3-94e6-dc0e28c11e9d",
   "metadata": {},
   "outputs": [],
   "source": [
    "with open('auction_data.csv', 'w', newline='') as out:\n",
    "    csv_out = csv.writer(out)\n",
    "    csv_out.writerow(headers)\n",
    "    for row in result:\n",
    "        csv_out.writerow(row)"
   ]
  },
  {
   "cell_type": "markdown",
   "id": "f79c9cd0-02e5-482b-ae84-d42465861f3d",
   "metadata": {
    "tags": []
   },
   "source": [
    "## Read data from CSV"
   ]
  },
  {
   "cell_type": "code",
   "execution_count": null,
   "id": "7158ff83-c6d0-445a-9bcb-5d0aa6d3c387",
   "metadata": {},
   "outputs": [],
   "source": [
    "df = pd.read_csv('auction_data.csv')\n",
    "df.head(5)"
   ]
  },
  {
   "cell_type": "code",
   "execution_count": null,
   "id": "21ffe038-310a-4466-a84c-8aa4e18274b3",
   "metadata": {},
   "outputs": [],
   "source": [
    "df.shape"
   ]
  },
  {
   "cell_type": "code",
   "execution_count": null,
   "id": "dd1596e3-2bf2-4e4a-a2da-73dfec58b60b",
   "metadata": {},
   "outputs": [],
   "source": [
    "df['TimeLeft'].value_counts()"
   ]
  },
  {
   "cell_type": "markdown",
   "id": "80cf4f3d-b4ba-443f-95a3-01537da39524",
   "metadata": {},
   "source": [
    "### Since we can't know if an item was sold or just expired, we'll focus on VERY_LONG time left items (between 12 and 48 hours left)"
   ]
  },
  {
   "cell_type": "code",
   "execution_count": null,
   "id": "e49c4929-8854-4e40-993b-3467c323c8bd",
   "metadata": {},
   "outputs": [],
   "source": [
    "df = df[df['TimeLeft'] == 'VERY_LONG']"
   ]
  },
  {
   "cell_type": "code",
   "execution_count": null,
   "id": "ff4e611b-6bfc-40bf-85da-1ddd7fde19e9",
   "metadata": {},
   "outputs": [],
   "source": [
    "df.loc[:,'Sold'] = df['TimesSeen'] <= 12"
   ]
  },
  {
   "cell_type": "code",
   "execution_count": null,
   "id": "202a2db2-85ca-44da-ba12-de3759807b96",
   "metadata": {},
   "outputs": [],
   "source": [
    "columns = ['Id', 'ItemName', 'Quantity', 'TimeLeft', 'ItemClass', 'TimesSeen', 'Sold']\n",
    "df[columns].head(5)"
   ]
  },
  {
   "cell_type": "markdown",
   "id": "06c6813a-d05d-41eb-9ec1-996488b7c190",
   "metadata": {
    "jp-MarkdownHeadingCollapsed": true,
    "tags": []
   },
   "source": [
    "# Exploratory Data Analysis"
   ]
  },
  {
   "cell_type": "code",
   "execution_count": null,
   "id": "e3e09191-838a-440b-a6a1-34a86b9a9152",
   "metadata": {},
   "outputs": [],
   "source": [
    "df.info()"
   ]
  },
  {
   "cell_type": "code",
   "execution_count": null,
   "id": "4855138e-43c1-42f1-84cb-199c643c2657",
   "metadata": {},
   "outputs": [],
   "source": [
    "columns = ['BidGold', 'BuyoutGold', 'Quantity', 'TimesSeen', 'IsEquippable']\n",
    "df[columns].describe()"
   ]
  },
  {
   "cell_type": "markdown",
   "id": "57cf6946-5ea8-4fb3-bedf-8b391027be9c",
   "metadata": {
    "tags": []
   },
   "source": [
    "## Percentage of items sold"
   ]
  },
  {
   "cell_type": "code",
   "execution_count": null,
   "id": "5eb58610-a1f4-48a8-8d83-28a1c084c01b",
   "metadata": {},
   "outputs": [],
   "source": [
    "df_count = df['Sold'].value_counts(normalize=True)\n",
    "df_count = df_count.mul(100)\n",
    "df_count = df_count.rename('Percent').reset_index()\n",
    "df_count['Sold'] = df_count['index'] \n",
    "\n",
    "g = sns.catplot(x='Sold', y='Percent', kind='bar', data=df_count)\n",
    "for p in g.ax.patches:\n",
    "    txt = str(p.get_height().round(2)) + '%'\n",
    "    txt_x = p.get_x()\n",
    "    txt_y = p.get_height() + 3\n",
    "    g.ax.text(txt_x,txt_y,txt)"
   ]
  },
  {
   "cell_type": "markdown",
   "id": "a82083b9-9ca4-4156-9fb3-52e1cd396bdf",
   "metadata": {
    "tags": []
   },
   "source": [
    "## Most popular Item"
   ]
  },
  {
   "cell_type": "code",
   "execution_count": null,
   "id": "e85e0b12-e8fb-4392-8e6b-dc41fda27e81",
   "metadata": {},
   "outputs": [],
   "source": [
    "items_sold = df[df['Sold'] == 1]\n",
    "\n",
    "count_items = items_sold.groupby(['ItemName']).size().reset_index(name='Counts')\n",
    "count_items = count_items.sort_values(by=['Counts'], ascending=False)\n",
    "\n",
    "print(count_items.head(10))\n",
    "\n",
    "plot = sns.barplot(x='ItemName', y='Counts', data=count_items[:10])\n",
    "for item in plot.get_xticklabels():\n",
    "    item.set_rotation(45)"
   ]
  },
  {
   "cell_type": "markdown",
   "id": "ce74137e-879c-4c7f-842d-3aa81872e040",
   "metadata": {},
   "source": [
    "## Most popular Item Class"
   ]
  },
  {
   "cell_type": "code",
   "execution_count": null,
   "id": "beee4b10-43c9-4cdf-ab35-00d46ea686cc",
   "metadata": {},
   "outputs": [],
   "source": [
    "items_sold = df[df['Sold'] == 1]\n",
    "\n",
    "count_items = items_sold.groupby(['ItemClass']).size().reset_index(name='Counts')\n",
    "count_items = count_items.sort_values(by=['Counts'], ascending=False)\n",
    "\n",
    "print(count_items.head(100))\n",
    "\n",
    "plot = sns.barplot(x='ItemClass', y='Counts', data=count_items[:5])\n",
    "for item in plot.get_xticklabels():\n",
    "    item.set_rotation(45)"
   ]
  },
  {
   "cell_type": "markdown",
   "id": "da29b0d5-186b-4175-b5e2-d13569a9c81b",
   "metadata": {},
   "source": [
    "## Most popular Item Subclass"
   ]
  },
  {
   "cell_type": "code",
   "execution_count": null,
   "id": "c5212203-f50f-4198-8c39-4a1d013b0d4a",
   "metadata": {},
   "outputs": [],
   "source": [
    "items_sold = df[df['Sold'] == 1]\n",
    "\n",
    "count_items = items_sold.groupby(['ItemSubClass']).size().reset_index(name='Counts')\n",
    "count_items = count_items.sort_values(by=['Counts'], ascending=False)\n",
    "\n",
    "print(count_items.head(10))\n",
    "\n",
    "plot = sns.barplot(x='ItemSubClass', y='Counts', data=count_items[:10])\n",
    "for item in plot.get_xticklabels():\n",
    "    item.set_rotation(45)"
   ]
  },
  {
   "cell_type": "markdown",
   "id": "ed61cba1-0e8f-4dbf-a0c8-366b2063c2b0",
   "metadata": {},
   "source": [
    "## Most sold quality tipe"
   ]
  },
  {
   "cell_type": "code",
   "execution_count": null,
   "id": "74a488a7-3411-4a36-913d-fb651879d9c8",
   "metadata": {},
   "outputs": [],
   "source": [
    "items_sold = df[df['Sold'] == 1]\n",
    "\n",
    "count_items = items_sold.groupby(['Quality']).size().reset_index(name='Counts')\n",
    "count_items = count_items.sort_values(by=['Counts'], ascending=False)\n",
    "\n",
    "print(count_items.head(10))\n",
    "\n",
    "plot = sns.barplot(x='Quality', y='Counts', data=count_items[:10])\n",
    "for item in plot.get_xticklabels():\n",
    "    item.set_rotation(45)"
   ]
  },
  {
   "cell_type": "markdown",
   "id": "fac657f8-933d-41d5-9a28-4228037a34c8",
   "metadata": {},
   "source": [
    "## Are most sold items equippable?"
   ]
  },
  {
   "cell_type": "code",
   "execution_count": null,
   "id": "e85014aa-24f5-45db-8209-f4ed270c6ae3",
   "metadata": {},
   "outputs": [],
   "source": [
    "items_sold = df[df['Sold'] == 1]\n",
    "\n",
    "count_items = items_sold.groupby(['IsEquippable']).size().reset_index(name='Counts')\n",
    "count_items = count_items.sort_values(by=['Counts'], ascending=False)[:10]\n",
    "\n",
    "print(count_items.head())\n",
    "\n",
    "plot = sns.barplot(x='IsEquippable', y='Counts', data=count_items)"
   ]
  },
  {
   "cell_type": "markdown",
   "id": "0b1ba0ba-3e40-4400-8184-386218f08b99",
   "metadata": {},
   "source": [
    "## Best week day to sell"
   ]
  },
  {
   "cell_type": "code",
   "execution_count": null,
   "id": "5321eeb6-c23e-4d56-a869-bd17c9af8f95",
   "metadata": {},
   "outputs": [],
   "source": [
    "import datetime\n",
    "\n",
    "df['WeekDay'] = df.apply(lambda row: datetime.datetime(row['FirstTimeSeenYear'], row['FirstTimeSeenMonth'], row['FirstTimeSeenDay']).weekday(), axis=1)\n",
    "\n",
    "count_items = df.groupby(['WeekDay']).size().reset_index(name='Counts')\n",
    "count_items = count_items.sort_values(by=['Counts'], ascending=False)[:10]\n",
    "\n",
    "print(count_items.head(10))\n",
    "\n",
    "plot = sns.barplot(x='WeekDay', y='Counts', data=count_items)"
   ]
  },
  {
   "cell_type": "markdown",
   "id": "ba02db24-4196-4e77-b7c9-125ff527eaa5",
   "metadata": {
    "tags": []
   },
   "source": [
    "# Feature Engineering"
   ]
  },
  {
   "cell_type": "markdown",
   "id": "03fd94cc-715a-4c46-8625-b631cae098a8",
   "metadata": {},
   "source": [
    "Unit price"
   ]
  },
  {
   "cell_type": "code",
   "execution_count": null,
   "id": "07c95ac6-4162-4238-b6eb-bdd040a6733c",
   "metadata": {},
   "outputs": [],
   "source": [
    "df['UnitPrice'] = df['BuyoutGold'] / df['Quantity']\n",
    "df[['Id', 'ItemId', 'BuyoutGold', 'Quantity', 'UnitPrice']].head()"
   ]
  },
  {
   "cell_type": "markdown",
   "id": "c51a948d-a893-4cb3-83a2-44bdfa4d9582",
   "metadata": {},
   "source": [
    "Historical sold price"
   ]
  },
  {
   "cell_type": "code",
   "execution_count": null,
   "id": "4e6a3668-31a0-442d-bc3f-0a5d0b214602",
   "metadata": {},
   "outputs": [],
   "source": [
    "historical_price = df[df['Sold'] == True].groupby(by=['ItemId'])['UnitPrice'].median().reset_index(name='HistoricalPrice')\n",
    "\n",
    "df_merged = pd.merge(df, historical_price, on=['ItemId'], how='left')\n",
    "df_merged['HistoricalPrice'] = df_merged['HistoricalPrice'].fillna(0)\n",
    "df_merged[['ItemId', 'UnitPrice', 'HistoricalPrice']].head(5)"
   ]
  },
  {
   "cell_type": "markdown",
   "id": "9374ec33-3f07-4c59-97eb-4af5b28d31c9",
   "metadata": {},
   "source": [
    "Add the median competitor price to the dataset, this should be used to predict a buyout price according to the current state of market"
   ]
  },
  {
   "cell_type": "code",
   "execution_count": null,
   "id": "23bc9521-7a57-4ecb-9d9d-c4888fa8b339",
   "metadata": {},
   "outputs": [],
   "source": [
    "median_competitor_price = df.groupby(by=['ItemId', 'FirstTimeSeenYear', 'FirstTimeSeenMonth', 'FirstTimeSeenDay', 'FirstTimeSeenHour'])['UnitPrice'].median().reset_index(name='MedianCompetitorPrice')\n",
    "\n",
    "df_merged = pd.merge(df_merged, median_competitor_price, on=['ItemId', 'FirstTimeSeenYear', 'FirstTimeSeenMonth', 'FirstTimeSeenDay', 'FirstTimeSeenHour'], how='left')\n",
    "df_merged['MedianCompetitorPrice'] = df_merged['MedianCompetitorPrice'].fillna(0)\n",
    "df_merged[['ItemId', 'FirstTimeSeenYear', 'FirstTimeSeenMonth', 'FirstTimeSeenDay', 'FirstTimeSeenHour', 'UnitPrice', 'MedianCompetitorPrice']].head(3)"
   ]
  },
  {
   "cell_type": "markdown",
   "id": "5579591a-5de8-468a-9109-6b63c1dc4002",
   "metadata": {},
   "source": [
    "Add the lowest price for that item"
   ]
  },
  {
   "cell_type": "code",
   "execution_count": null,
   "id": "cd3dc8b7-a6b9-444b-a9c5-1d4fc885dc78",
   "metadata": {},
   "outputs": [],
   "source": [
    "lowest_competitor_price = df[df['UnitPrice'] > 0].groupby(by=['ItemId', 'FirstTimeSeenYear', 'FirstTimeSeenMonth', 'FirstTimeSeenDay', 'FirstTimeSeenHour'])['UnitPrice'].min().reset_index(name='LowestCompetitorPrice')\n",
    "\n",
    "df_merged = pd.merge(df_merged, lowest_competitor_price, on=['ItemId', 'FirstTimeSeenYear', 'FirstTimeSeenMonth', 'FirstTimeSeenDay', 'FirstTimeSeenHour'], how='left')\n",
    "df_merged['LowestCompetitorPrice'] = df_merged['LowestCompetitorPrice'].fillna(0)\n",
    "df_merged[['ItemId', 'FirstTimeSeenYear', 'FirstTimeSeenMonth', 'FirstTimeSeenDay', 'FirstTimeSeenHour', 'UnitPrice', 'LowestCompetitorPrice']].head(3)"
   ]
  },
  {
   "cell_type": "markdown",
   "id": "4a48c482-b549-408f-bdfb-1f44d9c04d72",
   "metadata": {
    "tags": []
   },
   "source": [
    "# Data Preparation"
   ]
  },
  {
   "cell_type": "code",
   "execution_count": null,
   "id": "e53d0329-8cde-4811-b1b3-c4c478edaca1",
   "metadata": {},
   "outputs": [],
   "source": [
    "df_sold = df_merged[df_merged['Sold'] == True]\n",
    "df_sold[['ItemId', 'Quantity', 'HistoricalPrice', 'MedianCompetitorPrice', 'LowestCompetitorPrice', 'UnitPrice']].head(10)"
   ]
  },
  {
   "cell_type": "code",
   "execution_count": null,
   "id": "c09473cd-f43a-444f-873c-acb88d9a2043",
   "metadata": {},
   "outputs": [],
   "source": [
    "numerical_columns = ['Quantity', 'HistoricalPrice', 'MedianCompetitorPrice', 'LowestCompetitorPrice']\n",
    "\n",
    "categorical_columns = []"
   ]
  },
  {
   "cell_type": "code",
   "execution_count": null,
   "id": "6780d9c2-b033-4379-8770-b424530d3b86",
   "metadata": {},
   "outputs": [],
   "source": [
    "X = df_sold[numerical_columns + categorical_columns]\n",
    "y = df_sold['UnitPrice']"
   ]
  },
  {
   "cell_type": "code",
   "execution_count": null,
   "id": "a5e00a4f-d056-4a44-b6b9-af5d2df2e7fc",
   "metadata": {},
   "outputs": [],
   "source": [
    "from sklearn.preprocessing import OneHotEncoder\n",
    "from sklearn.compose import make_column_transformer\n",
    "\n",
    "column_transformer = make_column_transformer(\n",
    "    (OneHotEncoder(sparse=False, handle_unknown='ignore'), categorical_columns),\n",
    "    remainder='passthrough'\n",
    ")\n",
    "\n",
    "X_train = column_transformer.fit_transform(X)\n",
    "y_train = np.array(y)"
   ]
  },
  {
   "cell_type": "markdown",
   "id": "5578f141-65d9-46ab-864a-c763694fa127",
   "metadata": {
    "tags": []
   },
   "source": [
    "# Model Selection"
   ]
  },
  {
   "cell_type": "code",
   "execution_count": null,
   "id": "f9ab81c6-9c72-4664-81dd-ec722369a99f",
   "metadata": {},
   "outputs": [],
   "source": [
    "m = 50000"
   ]
  },
  {
   "cell_type": "code",
   "execution_count": null,
   "id": "8d579fe1-51fb-4811-8124-89ccbbe1f9e0",
   "metadata": {},
   "outputs": [],
   "source": [
    "from sklearn.linear_model import LinearRegression\n",
    "\n",
    "reg = LinearRegression()\n",
    "\n",
    "cross_val_score(reg, X_train[:m], y_train[:m], cv=3, scoring='neg_mean_absolute_error').mean()"
   ]
  },
  {
   "cell_type": "code",
   "execution_count": null,
   "id": "cfed3a7a-3844-4252-ad5c-aaa60ba58873",
   "metadata": {},
   "outputs": [],
   "source": [
    "from sklearn.ensemble import RandomForestRegressor\n",
    "\n",
    "reg = RandomForestRegressor()\n",
    "\n",
    "cross_val_score(reg, X_train[:m], y_train[:m], scoring='neg_mean_absolute_error').mean()"
   ]
  },
  {
   "cell_type": "code",
   "execution_count": null,
   "id": "03a5ca87-5478-45af-b619-e9c5c46bd343",
   "metadata": {},
   "outputs": [],
   "source": [
    "from xgboost import XGBRegressor\n",
    "\n",
    "reg = XGBRegressor()\n",
    "\n",
    "cross_val_score(reg, X_train[:m], y_train[:m], scoring='neg_mean_absolute_error').mean()"
   ]
  },
  {
   "cell_type": "markdown",
   "id": "c55bcc24-37b3-4e2e-b939-37fa514744a7",
   "metadata": {},
   "source": [
    "### Full data"
   ]
  },
  {
   "cell_type": "code",
   "execution_count": null,
   "id": "542b750e-cdda-4084-a14a-0d58d85a77b3",
   "metadata": {},
   "outputs": [],
   "source": [
    "cross_val_score(reg, X_train, y_train, scoring='neg_mean_absolute_error').mean()"
   ]
  },
  {
   "cell_type": "code",
   "execution_count": null,
   "id": "8e7f6c15-e837-41fb-96d7-5e21bdfbee4c",
   "metadata": {},
   "outputs": [],
   "source": [
    "reg.fit(X_train, y_train)"
   ]
  },
  {
   "cell_type": "code",
   "execution_count": null,
   "id": "eb8f5ed8-d431-4012-a653-609e6bda1511",
   "metadata": {},
   "outputs": [],
   "source": [
    "features = np.array(column_transformer.transformers_[0][1].get_feature_names(categorical_columns).tolist() + numerical_columns)"
   ]
  },
  {
   "cell_type": "code",
   "execution_count": null,
   "id": "5c59ad27-57d2-4590-8873-7288eb465b81",
   "metadata": {},
   "outputs": [],
   "source": [
    "sorted_idx = reg.feature_importances_.argsort()\n",
    "\n",
    "plt.figure(figsize=(8,12))\n",
    "plt.barh(features[sorted_idx], reg.feature_importances_[sorted_idx])"
   ]
  },
  {
   "cell_type": "markdown",
   "id": "fe46f81a-96f8-4180-b43b-d591380ca800",
   "metadata": {},
   "source": [
    "# Finetuning"
   ]
  },
  {
   "cell_type": "code",
   "execution_count": null,
   "id": "def38187-e13c-42c7-924e-0cd35d02f758",
   "metadata": {},
   "outputs": [],
   "source": [
    "from sklearn.model_selection import GridSearchCV\n",
    "from sklearn.ensemble import RandomForestRegressor\n",
    "\n",
    "param_grid = [\n",
    "    {'randomforestregressor__n_estimators': [3, 10, 30], 'randomforestregressor__max_features': [2, 4, 6, 8]},\n",
    "    {'randomforestregressor__bootstrap': [False], 'randomforestregressor__n_estimators': [3, 10], 'randomforestregressor__max_features': [2, 3, 4]}\n",
    "]\n",
    "\n",
    "reg = RandomForestRegressor()\n",
    "\n",
    "pipeline = make_pipeline(\n",
    "    column_transformer,\n",
    "    reg\n",
    ")\n",
    "\n",
    "\n",
    "grid_search = GridSearchCV(pipeline, param_grid, cv=5,scoring='neg_mean_absolute_error',return_train_score=True)\n",
    "\n",
    "grid_search.fit(X, y)"
   ]
  },
  {
   "cell_type": "code",
   "execution_count": null,
   "id": "da982c78-2390-4643-8211-e5b377578086",
   "metadata": {},
   "outputs": [],
   "source": [
    "grid_search.best_params_"
   ]
  },
  {
   "cell_type": "code",
   "execution_count": null,
   "id": "0bb27459-a77b-4282-b8f9-4a8fbba69a96",
   "metadata": {},
   "outputs": [],
   "source": [
    "cvres = grid_search.cv_results_\n",
    "for mean_score, params in zip(cvres[\"mean_test_score\"], cvres[\"params\"]):\n",
    "    print(mean_score, params)"
   ]
  },
  {
   "cell_type": "code",
   "execution_count": null,
   "id": "b263384e-e92a-487a-a5ea-1ae466470669",
   "metadata": {},
   "outputs": [],
   "source": [
    "X.columns"
   ]
  },
  {
   "cell_type": "code",
   "execution_count": null,
   "id": "c3021196-fd2d-4faa-8f13-5179e644042d",
   "metadata": {},
   "outputs": [],
   "source": [
    "sorted_idx = grid_search.best_estimator_._final_estimator.feature_importances_.argsort()\n",
    "\n",
    "plt.figure(figsize=(8,24))\n",
    "plt.barh(X.columns[sorted_idx], grid_search.best_estimator_._final_estimator.feature_importances_[sorted_idx])"
   ]
  },
  {
   "cell_type": "markdown",
   "id": "7e5c42bc-de7f-40a6-90d5-d2e316af2038",
   "metadata": {
    "tags": []
   },
   "source": [
    "# Save model"
   ]
  },
  {
   "cell_type": "code",
   "execution_count": null,
   "id": "766b2e78-b716-4951-976b-58707e2d1481",
   "metadata": {},
   "outputs": [],
   "source": [
    "import pickle\n",
    "\n",
    "filename = 'model.sav'\n",
    "pickle.dump(reg, open(filename, 'wb'))"
   ]
  },
  {
   "cell_type": "markdown",
   "id": "54777c5e-bafb-4535-a3d1-ef43bb8fd3d6",
   "metadata": {},
   "source": [
    "# Load model"
   ]
  },
  {
   "cell_type": "code",
   "execution_count": 4,
   "id": "9972eacc-b053-4897-99bf-54b7c2dcd414",
   "metadata": {},
   "outputs": [],
   "source": [
    "import pickle\n",
    "\n",
    "filename = 'model.sav'\n",
    "reg = pickle.load(open(filename, 'rb'))"
   ]
  },
  {
   "cell_type": "markdown",
   "id": "405e76f5-4906-4278-8295-ac9da5a31df3",
   "metadata": {},
   "source": [
    "# Data for prediction"
   ]
  },
  {
   "cell_type": "markdown",
   "id": "46db785d-ca1b-49ce-ac82-788f57ac0f4b",
   "metadata": {},
   "source": [
    "Historical data from database"
   ]
  },
  {
   "cell_type": "code",
   "execution_count": 5,
   "id": "852299fe-0eb7-4644-a940-6725964b6069",
   "metadata": {},
   "outputs": [
    {
     "data": {
      "text/html": [
       "<div>\n",
       "<style scoped>\n",
       "    .dataframe tbody tr th:only-of-type {\n",
       "        vertical-align: middle;\n",
       "    }\n",
       "\n",
       "    .dataframe tbody tr th {\n",
       "        vertical-align: top;\n",
       "    }\n",
       "\n",
       "    .dataframe thead th {\n",
       "        text-align: right;\n",
       "    }\n",
       "</style>\n",
       "<table border=\"1\" class=\"dataframe\">\n",
       "  <thead>\n",
       "    <tr style=\"text-align: right;\">\n",
       "      <th></th>\n",
       "      <th>Id</th>\n",
       "      <th>ItemId</th>\n",
       "      <th>BidGold</th>\n",
       "      <th>BuyoutGold</th>\n",
       "      <th>Quantity</th>\n",
       "      <th>TimeLeft</th>\n",
       "      <th>Rand</th>\n",
       "      <th>Seed</th>\n",
       "      <th>FirstTimeSeenYear</th>\n",
       "      <th>FirstTimeSeenMonth</th>\n",
       "      <th>...</th>\n",
       "      <th>ItemSubClass</th>\n",
       "      <th>PurchasePriceGold</th>\n",
       "      <th>PurchasePriceSilver</th>\n",
       "      <th>SellPriceGold</th>\n",
       "      <th>SellPriceSilver</th>\n",
       "      <th>MaxCount</th>\n",
       "      <th>IsEquippable</th>\n",
       "      <th>IsStackable</th>\n",
       "      <th>Sold</th>\n",
       "      <th>UnitPrice</th>\n",
       "    </tr>\n",
       "  </thead>\n",
       "  <tbody>\n",
       "    <tr>\n",
       "      <th>5040</th>\n",
       "      <td>1420447020</td>\n",
       "      <td>22797</td>\n",
       "      <td>74.090000</td>\n",
       "      <td>78.000000</td>\n",
       "      <td>20</td>\n",
       "      <td>VERY_LONG</td>\n",
       "      <td>NaN</td>\n",
       "      <td>NaN</td>\n",
       "      <td>2021</td>\n",
       "      <td>9</td>\n",
       "      <td>...</td>\n",
       "      <td>Herb</td>\n",
       "      <td>0</td>\n",
       "      <td>50</td>\n",
       "      <td>0</td>\n",
       "      <td>12</td>\n",
       "      <td>0</td>\n",
       "      <td>False</td>\n",
       "      <td>True</td>\n",
       "      <td>True</td>\n",
       "      <td>3.900000</td>\n",
       "    </tr>\n",
       "    <tr>\n",
       "      <th>5056</th>\n",
       "      <td>1420450045</td>\n",
       "      <td>1988</td>\n",
       "      <td>2.450000</td>\n",
       "      <td>2.970000</td>\n",
       "      <td>1</td>\n",
       "      <td>VERY_LONG</td>\n",
       "      <td>NaN</td>\n",
       "      <td>NaN</td>\n",
       "      <td>2021</td>\n",
       "      <td>9</td>\n",
       "      <td>...</td>\n",
       "      <td>Mail</td>\n",
       "      <td>1</td>\n",
       "      <td>42</td>\n",
       "      <td>0</td>\n",
       "      <td>28</td>\n",
       "      <td>0</td>\n",
       "      <td>True</td>\n",
       "      <td>False</td>\n",
       "      <td>True</td>\n",
       "      <td>2.970000</td>\n",
       "    </tr>\n",
       "    <tr>\n",
       "      <th>5061</th>\n",
       "      <td>1420450285</td>\n",
       "      <td>3185</td>\n",
       "      <td>0.800000</td>\n",
       "      <td>1.200000</td>\n",
       "      <td>1</td>\n",
       "      <td>VERY_LONG</td>\n",
       "      <td>2002.0</td>\n",
       "      <td>1.507757e+09</td>\n",
       "      <td>2021</td>\n",
       "      <td>9</td>\n",
       "      <td>...</td>\n",
       "      <td>Staff</td>\n",
       "      <td>4</td>\n",
       "      <td>4</td>\n",
       "      <td>0</td>\n",
       "      <td>80</td>\n",
       "      <td>0</td>\n",
       "      <td>True</td>\n",
       "      <td>False</td>\n",
       "      <td>True</td>\n",
       "      <td>1.200000</td>\n",
       "    </tr>\n",
       "    <tr>\n",
       "      <th>5062</th>\n",
       "      <td>1420451431</td>\n",
       "      <td>32067</td>\n",
       "      <td>75.250000</td>\n",
       "      <td>76.680000</td>\n",
       "      <td>10</td>\n",
       "      <td>VERY_LONG</td>\n",
       "      <td>NaN</td>\n",
       "      <td>NaN</td>\n",
       "      <td>2021</td>\n",
       "      <td>9</td>\n",
       "      <td>...</td>\n",
       "      <td>Elixir</td>\n",
       "      <td>0</td>\n",
       "      <td>60</td>\n",
       "      <td>0</td>\n",
       "      <td>15</td>\n",
       "      <td>0</td>\n",
       "      <td>False</td>\n",
       "      <td>True</td>\n",
       "      <td>True</td>\n",
       "      <td>7.668000</td>\n",
       "    </tr>\n",
       "    <tr>\n",
       "      <th>5063</th>\n",
       "      <td>1420451456</td>\n",
       "      <td>32067</td>\n",
       "      <td>75.250000</td>\n",
       "      <td>76.680000</td>\n",
       "      <td>10</td>\n",
       "      <td>VERY_LONG</td>\n",
       "      <td>NaN</td>\n",
       "      <td>NaN</td>\n",
       "      <td>2021</td>\n",
       "      <td>9</td>\n",
       "      <td>...</td>\n",
       "      <td>Elixir</td>\n",
       "      <td>0</td>\n",
       "      <td>60</td>\n",
       "      <td>0</td>\n",
       "      <td>15</td>\n",
       "      <td>0</td>\n",
       "      <td>False</td>\n",
       "      <td>True</td>\n",
       "      <td>True</td>\n",
       "      <td>7.668000</td>\n",
       "    </tr>\n",
       "  </tbody>\n",
       "</table>\n",
       "<p>5 rows × 28 columns</p>\n",
       "</div>"
      ],
      "text/plain": [
       "              Id  ItemId    BidGold BuyoutGold  Quantity   TimeLeft    Rand  \\\n",
       "5040  1420447020   22797  74.090000  78.000000        20  VERY_LONG     NaN   \n",
       "5056  1420450045    1988   2.450000   2.970000         1  VERY_LONG     NaN   \n",
       "5061  1420450285    3185   0.800000   1.200000         1  VERY_LONG  2002.0   \n",
       "5062  1420451431   32067  75.250000  76.680000        10  VERY_LONG     NaN   \n",
       "5063  1420451456   32067  75.250000  76.680000        10  VERY_LONG     NaN   \n",
       "\n",
       "              Seed  FirstTimeSeenYear  FirstTimeSeenMonth  ...  ItemSubClass  \\\n",
       "5040           NaN               2021                   9  ...          Herb   \n",
       "5056           NaN               2021                   9  ...          Mail   \n",
       "5061  1.507757e+09               2021                   9  ...         Staff   \n",
       "5062           NaN               2021                   9  ...        Elixir   \n",
       "5063           NaN               2021                   9  ...        Elixir   \n",
       "\n",
       "      PurchasePriceGold  PurchasePriceSilver SellPriceGold SellPriceSilver  \\\n",
       "5040                  0                   50             0              12   \n",
       "5056                  1                   42             0              28   \n",
       "5061                  4                    4             0              80   \n",
       "5062                  0                   60             0              15   \n",
       "5063                  0                   60             0              15   \n",
       "\n",
       "      MaxCount  IsEquippable IsStackable  Sold  UnitPrice  \n",
       "5040         0         False        True  True   3.900000  \n",
       "5056         0          True       False  True   2.970000  \n",
       "5061         0          True       False  True   1.200000  \n",
       "5062         0         False        True  True   7.668000  \n",
       "5063         0         False        True  True   7.668000  \n",
       "\n",
       "[5 rows x 28 columns]"
      ]
     },
     "execution_count": 5,
     "metadata": {},
     "output_type": "execute_result"
    }
   ],
   "source": [
    "result, headers = get_data(sql, config)\n",
    "\n",
    "df_historical = pd.DataFrame.from_records(result, columns=headers)\n",
    "df_historical = df_historical[df_historical['BuyoutGold'] > 0]\n",
    "df_historical = df_historical[df_historical['TimeLeft'] == 'VERY_LONG']\n",
    "df_historical.loc[:,'Sold'] = df_historical['TimesSeen'] <= 12\n",
    "df_historical['UnitPrice'] = df_historical['BuyoutGold'] / df_historical['Quantity']\n",
    "df_historical = df_historical[df_historical['Sold'] == True]\n",
    "\n",
    "df_historical.head()"
   ]
  },
  {
   "cell_type": "markdown",
   "id": "26abb611-11b3-49da-9171-41dcfd4fcb5d",
   "metadata": {},
   "source": [
    "Item data"
   ]
  },
  {
   "cell_type": "code",
   "execution_count": 6,
   "id": "3cc7c12e-f941-4c3b-b17c-93ded6591d9d",
   "metadata": {},
   "outputs": [
    {
     "data": {
      "text/html": [
       "<div>\n",
       "<style scoped>\n",
       "    .dataframe tbody tr th:only-of-type {\n",
       "        vertical-align: middle;\n",
       "    }\n",
       "\n",
       "    .dataframe tbody tr th {\n",
       "        vertical-align: top;\n",
       "    }\n",
       "\n",
       "    .dataframe thead th {\n",
       "        text-align: right;\n",
       "    }\n",
       "</style>\n",
       "<table border=\"1\" class=\"dataframe\">\n",
       "  <thead>\n",
       "    <tr style=\"text-align: right;\">\n",
       "      <th></th>\n",
       "      <th>Id</th>\n",
       "      <th>Name</th>\n",
       "      <th>Quality</th>\n",
       "      <th>Level</th>\n",
       "      <th>RequiredLevel</th>\n",
       "      <th>ItemClass</th>\n",
       "      <th>ItemSubClass</th>\n",
       "      <th>PurchasePriceGold</th>\n",
       "      <th>PurchasePriceSilver</th>\n",
       "      <th>SellPriceGold</th>\n",
       "      <th>SellPriceSilver</th>\n",
       "      <th>MaxCount</th>\n",
       "      <th>IsEquippable</th>\n",
       "      <th>IsStackable</th>\n",
       "      <th>ItemId</th>\n",
       "      <th>SellPrice</th>\n",
       "    </tr>\n",
       "  </thead>\n",
       "  <tbody>\n",
       "    <tr>\n",
       "      <th>0</th>\n",
       "      <td>38</td>\n",
       "      <td>Recruit's Shirt</td>\n",
       "      <td>Common</td>\n",
       "      <td>1</td>\n",
       "      <td>0</td>\n",
       "      <td>Armor</td>\n",
       "      <td>Miscellaneous</td>\n",
       "      <td>0</td>\n",
       "      <td>0</td>\n",
       "      <td>0</td>\n",
       "      <td>0</td>\n",
       "      <td>0</td>\n",
       "      <td>True</td>\n",
       "      <td>False</td>\n",
       "      <td>38</td>\n",
       "      <td>0.0</td>\n",
       "    </tr>\n",
       "    <tr>\n",
       "      <th>1</th>\n",
       "      <td>45</td>\n",
       "      <td>Squire's Shirt</td>\n",
       "      <td>Common</td>\n",
       "      <td>1</td>\n",
       "      <td>0</td>\n",
       "      <td>Armor</td>\n",
       "      <td>Miscellaneous</td>\n",
       "      <td>0</td>\n",
       "      <td>0</td>\n",
       "      <td>0</td>\n",
       "      <td>0</td>\n",
       "      <td>0</td>\n",
       "      <td>True</td>\n",
       "      <td>False</td>\n",
       "      <td>45</td>\n",
       "      <td>0.0</td>\n",
       "    </tr>\n",
       "    <tr>\n",
       "      <th>2</th>\n",
       "      <td>51</td>\n",
       "      <td>Neophyte's Boots</td>\n",
       "      <td>Common</td>\n",
       "      <td>1</td>\n",
       "      <td>0</td>\n",
       "      <td>Armor</td>\n",
       "      <td>Miscellaneous</td>\n",
       "      <td>0</td>\n",
       "      <td>0</td>\n",
       "      <td>0</td>\n",
       "      <td>0</td>\n",
       "      <td>0</td>\n",
       "      <td>True</td>\n",
       "      <td>False</td>\n",
       "      <td>51</td>\n",
       "      <td>0.0</td>\n",
       "    </tr>\n",
       "  </tbody>\n",
       "</table>\n",
       "</div>"
      ],
      "text/plain": [
       "   Id              Name Quality  Level  RequiredLevel ItemClass  \\\n",
       "0  38   Recruit's Shirt  Common      1              0     Armor   \n",
       "1  45    Squire's Shirt  Common      1              0     Armor   \n",
       "2  51  Neophyte's Boots  Common      1              0     Armor   \n",
       "\n",
       "    ItemSubClass  PurchasePriceGold  PurchasePriceSilver  SellPriceGold  \\\n",
       "0  Miscellaneous                  0                    0              0   \n",
       "1  Miscellaneous                  0                    0              0   \n",
       "2  Miscellaneous                  0                    0              0   \n",
       "\n",
       "   SellPriceSilver  MaxCount  IsEquippable  IsStackable  ItemId  SellPrice  \n",
       "0                0         0          True        False      38        0.0  \n",
       "1                0         0          True        False      45        0.0  \n",
       "2                0         0          True        False      51        0.0  "
      ]
     },
     "execution_count": 6,
     "metadata": {},
     "output_type": "execute_result"
    }
   ],
   "source": [
    "with open(\"sql/get_items.sql\", \"r\") as f:\n",
    "    sql_items = f.read()\n",
    "    \n",
    "result, headers = get_data(sql_items, config)\n",
    "\n",
    "items = pd.DataFrame.from_records(result, columns=headers)\n",
    "items['ItemId'] = items['Id']\n",
    "items['SellPrice'] = items['SellPriceGold'] + items['SellPriceSilver'] / 100.0\n",
    "\n",
    "items.head(3)"
   ]
  },
  {
   "cell_type": "markdown",
   "id": "64a36ee0-18d4-4a31-9821-3fe6844c67e2",
   "metadata": {},
   "source": [
    "Get actual auction data"
   ]
  },
  {
   "cell_type": "code",
   "execution_count": 7,
   "id": "95ff51f4-a8fe-45d0-b762-ad4f982cd712",
   "metadata": {},
   "outputs": [
    {
     "name": "stdout",
     "output_type": "stream",
     "text": [
      "Token created\n",
      "Request done\n",
      "69351 auctions processed.\n"
     ]
    },
    {
     "data": {
      "text/html": [
       "<div>\n",
       "<style scoped>\n",
       "    .dataframe tbody tr th:only-of-type {\n",
       "        vertical-align: middle;\n",
       "    }\n",
       "\n",
       "    .dataframe tbody tr th {\n",
       "        vertical-align: top;\n",
       "    }\n",
       "\n",
       "    .dataframe thead th {\n",
       "        text-align: right;\n",
       "    }\n",
       "</style>\n",
       "<table border=\"1\" class=\"dataframe\">\n",
       "  <thead>\n",
       "    <tr style=\"text-align: right;\">\n",
       "      <th></th>\n",
       "      <th>Id</th>\n",
       "      <th>ItemId</th>\n",
       "      <th>BidGold</th>\n",
       "      <th>BidSilver</th>\n",
       "      <th>BuyoutGold</th>\n",
       "      <th>BuyoutSilver</th>\n",
       "      <th>Quantity</th>\n",
       "      <th>TimeLeft</th>\n",
       "      <th>Rand</th>\n",
       "      <th>Seed</th>\n",
       "      <th>UnitPrice</th>\n",
       "    </tr>\n",
       "  </thead>\n",
       "  <tbody>\n",
       "    <tr>\n",
       "      <th>0</th>\n",
       "      <td>1447690364</td>\n",
       "      <td>14182</td>\n",
       "      <td>3</td>\n",
       "      <td>0</td>\n",
       "      <td>4.00</td>\n",
       "      <td>0</td>\n",
       "      <td>1</td>\n",
       "      <td>SHORT</td>\n",
       "      <td>768</td>\n",
       "      <td>579361792</td>\n",
       "      <td>4.00</td>\n",
       "    </tr>\n",
       "    <tr>\n",
       "      <th>1</th>\n",
       "      <td>1447691692</td>\n",
       "      <td>15334</td>\n",
       "      <td>3</td>\n",
       "      <td>39</td>\n",
       "      <td>4.77</td>\n",
       "      <td>77</td>\n",
       "      <td>1</td>\n",
       "      <td>SHORT</td>\n",
       "      <td>764</td>\n",
       "      <td>2070439680</td>\n",
       "      <td>4.77</td>\n",
       "    </tr>\n",
       "    <tr>\n",
       "      <th>2</th>\n",
       "      <td>1447691858</td>\n",
       "      <td>5116</td>\n",
       "      <td>1</td>\n",
       "      <td>4</td>\n",
       "      <td>1.60</td>\n",
       "      <td>60</td>\n",
       "      <td>1</td>\n",
       "      <td>SHORT</td>\n",
       "      <td>None</td>\n",
       "      <td>None</td>\n",
       "      <td>1.60</td>\n",
       "    </tr>\n",
       "    <tr>\n",
       "      <th>3</th>\n",
       "      <td>1447691860</td>\n",
       "      <td>5116</td>\n",
       "      <td>1</td>\n",
       "      <td>4</td>\n",
       "      <td>1.60</td>\n",
       "      <td>60</td>\n",
       "      <td>1</td>\n",
       "      <td>SHORT</td>\n",
       "      <td>None</td>\n",
       "      <td>None</td>\n",
       "      <td>1.60</td>\n",
       "    </tr>\n",
       "    <tr>\n",
       "      <th>4</th>\n",
       "      <td>1447691864</td>\n",
       "      <td>5116</td>\n",
       "      <td>1</td>\n",
       "      <td>4</td>\n",
       "      <td>1.60</td>\n",
       "      <td>60</td>\n",
       "      <td>1</td>\n",
       "      <td>SHORT</td>\n",
       "      <td>None</td>\n",
       "      <td>None</td>\n",
       "      <td>1.60</td>\n",
       "    </tr>\n",
       "  </tbody>\n",
       "</table>\n",
       "</div>"
      ],
      "text/plain": [
       "           Id  ItemId  BidGold  BidSilver  BuyoutGold  BuyoutSilver  Quantity  \\\n",
       "0  1447690364   14182        3          0        4.00             0         1   \n",
       "1  1447691692   15334        3         39        4.77            77         1   \n",
       "2  1447691858    5116        1          4        1.60            60         1   \n",
       "3  1447691860    5116        1          4        1.60            60         1   \n",
       "4  1447691864    5116        1          4        1.60            60         1   \n",
       "\n",
       "  TimeLeft  Rand        Seed  UnitPrice  \n",
       "0    SHORT   768   579361792       4.00  \n",
       "1    SHORT   764  2070439680       4.77  \n",
       "2    SHORT  None        None       1.60  \n",
       "3    SHORT  None        None       1.60  \n",
       "4    SHORT  None        None       1.60  "
      ]
     },
     "execution_count": 7,
     "metadata": {},
     "output_type": "execute_result"
    }
   ],
   "source": [
    "auctions = get_auction_data(save=False)\n",
    "\n",
    "df_actual = pd.DataFrame.from_records(auctions, columns=['Id', 'ItemId', 'BidGold', 'BidSilver', 'BuyoutGold', 'BuyoutSilver', 'Quantity', 'TimeLeft', 'Rand', 'Seed'])\n",
    "df_actual['BuyoutGold'] = df_actual['BuyoutGold'] + (df_actual['BuyoutSilver'] / 100.0)\n",
    "df_actual['UnitPrice'] = df_actual['BuyoutGold'] / df_actual['Quantity']\n",
    "df_actual = df_actual[df_actual['BuyoutGold'] > 0]\n",
    "\n",
    "df_actual.head()"
   ]
  },
  {
   "cell_type": "code",
   "execution_count": 8,
   "id": "db4a6208-3a70-416c-b56b-796fcf30ff15",
   "metadata": {},
   "outputs": [],
   "source": [
    "historical_price = df_historical.groupby(by=['ItemId'])['UnitPrice'].median().reset_index(name='HistoricalPrice')\n",
    "median_competitor_price = df_actual.groupby(by=['ItemId'])['UnitPrice'].median().reset_index(name='MedianCompetitorPrice')\n",
    "lowest_competitor_price = df_actual[df_actual['UnitPrice'] > 0].groupby(by=['ItemId'])['UnitPrice'].min().reset_index(name='LowestCompetitorPrice')"
   ]
  },
  {
   "cell_type": "markdown",
   "id": "8fb9aaa8-f2db-4176-b9b1-56a5593587c8",
   "metadata": {
    "tags": []
   },
   "source": [
    "# Model Prediction"
   ]
  },
  {
   "cell_type": "code",
   "execution_count": 9,
   "id": "98730604-fe12-43c9-88dd-4f8709a8d59f",
   "metadata": {},
   "outputs": [
    {
     "data": {
      "text/html": [
       "<div>\n",
       "<style scoped>\n",
       "    .dataframe tbody tr th:only-of-type {\n",
       "        vertical-align: middle;\n",
       "    }\n",
       "\n",
       "    .dataframe tbody tr th {\n",
       "        vertical-align: top;\n",
       "    }\n",
       "\n",
       "    .dataframe thead th {\n",
       "        text-align: right;\n",
       "    }\n",
       "</style>\n",
       "<table border=\"1\" class=\"dataframe\">\n",
       "  <thead>\n",
       "    <tr style=\"text-align: right;\">\n",
       "      <th></th>\n",
       "      <th>ItemId</th>\n",
       "      <th>Quantity</th>\n",
       "    </tr>\n",
       "  </thead>\n",
       "  <tbody>\n",
       "    <tr>\n",
       "      <th>0</th>\n",
       "      <td>23424</td>\n",
       "      <td>1</td>\n",
       "    </tr>\n",
       "    <tr>\n",
       "      <th>1</th>\n",
       "      <td>23425</td>\n",
       "      <td>1</td>\n",
       "    </tr>\n",
       "    <tr>\n",
       "      <th>2</th>\n",
       "      <td>22573</td>\n",
       "      <td>1</td>\n",
       "    </tr>\n",
       "    <tr>\n",
       "      <th>3</th>\n",
       "      <td>24819</td>\n",
       "      <td>1</td>\n",
       "    </tr>\n",
       "    <tr>\n",
       "      <th>4</th>\n",
       "      <td>23427</td>\n",
       "      <td>1</td>\n",
       "    </tr>\n",
       "  </tbody>\n",
       "</table>\n",
       "</div>"
      ],
      "text/plain": [
       "   ItemId  Quantity\n",
       "0   23424         1\n",
       "1   23425         1\n",
       "2   22573         1\n",
       "3   24819         1\n",
       "4   23427         1"
      ]
     },
     "execution_count": 9,
     "metadata": {},
     "output_type": "execute_result"
    }
   ],
   "source": [
    "predict = pd.read_csv('predict.csv')\n",
    "predict.head()"
   ]
  },
  {
   "cell_type": "code",
   "execution_count": 10,
   "id": "ec0f1c2d-666b-4f17-a448-ded21fb723b3",
   "metadata": {},
   "outputs": [
    {
     "data": {
      "text/html": [
       "<div>\n",
       "<style scoped>\n",
       "    .dataframe tbody tr th:only-of-type {\n",
       "        vertical-align: middle;\n",
       "    }\n",
       "\n",
       "    .dataframe tbody tr th {\n",
       "        vertical-align: top;\n",
       "    }\n",
       "\n",
       "    .dataframe thead th {\n",
       "        text-align: right;\n",
       "    }\n",
       "</style>\n",
       "<table border=\"1\" class=\"dataframe\">\n",
       "  <thead>\n",
       "    <tr style=\"text-align: right;\">\n",
       "      <th></th>\n",
       "      <th>ItemId</th>\n",
       "      <th>Quantity</th>\n",
       "      <th>HistoricalPrice</th>\n",
       "      <th>MedianCompetitorPrice</th>\n",
       "      <th>LowestCompetitorPrice</th>\n",
       "      <th>Name</th>\n",
       "      <th>Quality</th>\n",
       "      <th>ItemClass</th>\n",
       "    </tr>\n",
       "  </thead>\n",
       "  <tbody>\n",
       "    <tr>\n",
       "      <th>0</th>\n",
       "      <td>23424</td>\n",
       "      <td>1</td>\n",
       "      <td>0.6610</td>\n",
       "      <td>0.8095</td>\n",
       "      <td>0.530000</td>\n",
       "      <td>Fel Iron Ore</td>\n",
       "      <td>Common</td>\n",
       "      <td>Trade Goods</td>\n",
       "    </tr>\n",
       "    <tr>\n",
       "      <th>1</th>\n",
       "      <td>23425</td>\n",
       "      <td>1</td>\n",
       "      <td>1.2395</td>\n",
       "      <td>1.2500</td>\n",
       "      <td>1.137500</td>\n",
       "      <td>Adamantite Ore</td>\n",
       "      <td>Common</td>\n",
       "      <td>Trade Goods</td>\n",
       "    </tr>\n",
       "    <tr>\n",
       "      <th>2</th>\n",
       "      <td>22573</td>\n",
       "      <td>1</td>\n",
       "      <td>0.2990</td>\n",
       "      <td>0.2290</td>\n",
       "      <td>0.188333</td>\n",
       "      <td>Mote of Earth</td>\n",
       "      <td>Common</td>\n",
       "      <td>Trade Goods</td>\n",
       "    </tr>\n",
       "    <tr>\n",
       "      <th>3</th>\n",
       "      <td>24819</td>\n",
       "      <td>1</td>\n",
       "      <td>17.2400</td>\n",
       "      <td>0.0000</td>\n",
       "      <td>0.000000</td>\n",
       "      <td>Felstone Leggings</td>\n",
       "      <td>Uncommon</td>\n",
       "      <td>Armor</td>\n",
       "    </tr>\n",
       "    <tr>\n",
       "      <th>4</th>\n",
       "      <td>23427</td>\n",
       "      <td>1</td>\n",
       "      <td>0.6300</td>\n",
       "      <td>0.5500</td>\n",
       "      <td>0.270000</td>\n",
       "      <td>Eternium Ore</td>\n",
       "      <td>Uncommon</td>\n",
       "      <td>Trade Goods</td>\n",
       "    </tr>\n",
       "    <tr>\n",
       "      <th>5</th>\n",
       "      <td>23436</td>\n",
       "      <td>1</td>\n",
       "      <td>79.5950</td>\n",
       "      <td>82.4800</td>\n",
       "      <td>77.000000</td>\n",
       "      <td>Living Ruby</td>\n",
       "      <td>Rare</td>\n",
       "      <td>Gem</td>\n",
       "    </tr>\n",
       "  </tbody>\n",
       "</table>\n",
       "</div>"
      ],
      "text/plain": [
       "   ItemId  Quantity  HistoricalPrice  MedianCompetitorPrice  \\\n",
       "0   23424         1           0.6610                 0.8095   \n",
       "1   23425         1           1.2395                 1.2500   \n",
       "2   22573         1           0.2990                 0.2290   \n",
       "3   24819         1          17.2400                 0.0000   \n",
       "4   23427         1           0.6300                 0.5500   \n",
       "5   23436         1          79.5950                82.4800   \n",
       "\n",
       "   LowestCompetitorPrice               Name   Quality    ItemClass  \n",
       "0               0.530000       Fel Iron Ore    Common  Trade Goods  \n",
       "1               1.137500     Adamantite Ore    Common  Trade Goods  \n",
       "2               0.188333      Mote of Earth    Common  Trade Goods  \n",
       "3               0.000000  Felstone Leggings  Uncommon        Armor  \n",
       "4               0.270000       Eternium Ore  Uncommon  Trade Goods  \n",
       "5              77.000000        Living Ruby      Rare          Gem  "
      ]
     },
     "execution_count": 10,
     "metadata": {},
     "output_type": "execute_result"
    }
   ],
   "source": [
    "df_merged = pd.merge(predict, historical_price, on=['ItemId'], how='left')\n",
    "df_merged = pd.merge(df_merged, median_competitor_price, on=['ItemId'], how='left')\n",
    "df_merged = pd.merge(df_merged, lowest_competitor_price, on=['ItemId'], how='left')\n",
    "df_merged = pd.merge(df_merged, items[['ItemId', 'Name', 'Quality', 'ItemClass']], on=['ItemId'], how='left')\n",
    "\n",
    "df_merged['HistoricalPrice'] = df_merged['HistoricalPrice'].fillna(0)\n",
    "df_merged['MedianCompetitorPrice'] = df_merged['MedianCompetitorPrice'].fillna(0)\n",
    "df_merged['LowestCompetitorPrice'] = df_merged['LowestCompetitorPrice'].fillna(0)\n",
    "\n",
    "df_merged.head(10)"
   ]
  },
  {
   "cell_type": "code",
   "execution_count": 12,
   "id": "f1461b93-c089-4940-812f-26032b7e3e76",
   "metadata": {},
   "outputs": [],
   "source": [
    "quantity = 1\n",
    "predictions = reg.predict(df_merged[['Quantity', 'HistoricalPrice', 'MedianCompetitorPrice', 'LowestCompetitorPrice']]) * quantity\n",
    " \n",
    "df_merged['RecommendedPrice'] = predictions\n",
    "df_merged.to_csv('predictions.csv')"
   ]
  },
  {
   "cell_type": "markdown",
   "id": "0e347346-2585-4f05-a428-715faa48e786",
   "metadata": {
    "tags": []
   },
   "source": [
    "# Get best offers"
   ]
  },
  {
   "cell_type": "code",
   "execution_count": null,
   "id": "1183ac88-da08-44eb-87ea-4d4727b7e071",
   "metadata": {},
   "outputs": [],
   "source": [
    "df_merged = pd.merge(df_actual, historical_price, on=['ItemId'], how='left')\n",
    "df_merged = pd.merge(df_merged, median_competitor_price, on=['ItemId'], how='left')\n",
    "df_merged = pd.merge(df_merged, lowest_competitor_price, on=['ItemId'], how='left')\n",
    "df_merged = pd.merge(df_merged, items[['ItemId', 'Name', 'Quality', 'ItemClass']], on=['ItemId'], how='left')\n",
    "\n",
    "df_merged['HistoricalPrice'] = df_merged['HistoricalPrice'].fillna(0)\n",
    "df_merged['MedianCompetitorPrice'] = df_merged['MedianCompetitorPrice'].fillna(0)\n",
    "df_merged['LowestCompetitorPrice'] = df_merged['LowestCompetitorPrice'].fillna(0)\n",
    "\n",
    "df_merged.head()"
   ]
  },
  {
   "cell_type": "code",
   "execution_count": null,
   "id": "0c819a6a-b8c3-4cc2-9990-53fb382f4ef0",
   "metadata": {},
   "outputs": [],
   "source": [
    "predictions = reg.predict(df_merged[['Quantity', 'HistoricalPrice', 'MedianCompetitorPrice', 'LowestCompetitorPrice']])\n",
    "\n",
    "df_predictions = pd.DataFrame(predictions, columns=['RecommendedPrice'])\n",
    "df_predictions['Id'] = df_merged[['Id']]\n",
    "\n",
    "df_predictions.head()"
   ]
  },
  {
   "cell_type": "code",
   "execution_count": null,
   "id": "855c1aef-103a-4bcf-9376-dcdf6077384a",
   "metadata": {},
   "outputs": [],
   "source": [
    "interest_columns = ['Id', 'ItemId', 'Name', 'Quantity', 'HistoricalPrice', 'MedianCompetitorPrice', 'LowestCompetitorPrice', 'UnitPrice', 'BuyoutGold']\n",
    "\n",
    "df_merged_recommended = pd.merge(df_merged[interest_columns], df_predictions, on=['Id'], how='left')\n",
    "df_merged_recommended = df_merged_recommended[df_merged_recommended['HistoricalPrice'] > 0]\n",
    "\n",
    "df_merged_recommended['PriceDifference'] = df_merged_recommended['RecommendedPrice'] - df_merged_recommended['BuyoutGold']\n",
    "df_merged_recommended['RelativeCompetitorPrice'] = df_merged_recommended['LowestCompetitorPrice'] / df_merged_recommended['MedianCompetitorPrice']\n",
    "df_merged_recommended['RelativeHistoricalPrice'] = df_merged_recommended['LowestCompetitorPrice'] / df_merged_recommended['HistoricalPrice']\n",
    "\n",
    "df_merged_recommended[df_merged_recommended['PriceDifference'] >= 1].to_csv('recommended_sales.csv')\n",
    "df_merged_recommended[df_merged_recommended['PriceDifference'] >= 1].head()"
   ]
  },
  {
   "cell_type": "markdown",
   "id": "04c7b261-83c8-4b91-ade5-a4266a42ee15",
   "metadata": {},
   "source": [
    "# Get items sold in auction at a price lower than vendor price"
   ]
  },
  {
   "cell_type": "code",
   "execution_count": null,
   "id": "a875a2bc-27ca-4e4d-ba14-38682a60b3cb",
   "metadata": {},
   "outputs": [],
   "source": [
    "columns = ['Name', 'UnitPrice', 'SellPrice', 'Underpriced']\n",
    "\n",
    "df_merged = pd.merge(df_actual, items, on=['ItemId'], how='left')\n",
    "df_merged['Underpriced'] = df_merged['UnitPrice'] < df_merged['SellPrice']\n",
    "df_merged[columns].head()"
   ]
  },
  {
   "cell_type": "code",
   "execution_count": null,
   "id": "38585d9a-582a-4cdd-a41c-2d901185e66d",
   "metadata": {},
   "outputs": [],
   "source": [
    "df_merged[df_merged['Underpriced'] == True][columns].to_csv('underpriced.csv')"
   ]
  }
 ],
 "metadata": {
  "kernelspec": {
   "display_name": "Python 3",
   "language": "python",
   "name": "python3"
  },
  "language_info": {
   "codemirror_mode": {
    "name": "ipython",
    "version": 3
   },
   "file_extension": ".py",
   "mimetype": "text/x-python",
   "name": "python",
   "nbconvert_exporter": "python",
   "pygments_lexer": "ipython3",
   "version": "3.8.8"
  }
 },
 "nbformat": 4,
 "nbformat_minor": 5
}
