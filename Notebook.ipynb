{
 "cells": [
  {
   "cell_type": "code",
   "execution_count": 1,
   "id": "e252cfd8-3ea2-40b9-841c-784e75209f25",
   "metadata": {},
   "outputs": [],
   "source": [
    "import pandas as pd\n",
    "import numpy as np\n",
    "import os\n",
    "import json\n",
    "import pyodbc\n",
    "import csv\n",
    "import seaborn as sns\n",
    "import matplotlib.pyplot as plt\n",
    "\n",
    "from etl.load_data import create_access_token"
   ]
  },
  {
   "cell_type": "markdown",
   "id": "550357fd-ec4d-4b70-8079-bc012abcad30",
   "metadata": {
    "tags": []
   },
   "source": [
    "## Retrieve most recent data"
   ]
  },
  {
   "cell_type": "code",
   "execution_count": 2,
   "id": "b45c23ad-14af-41bf-8225-b79f44b57bdb",
   "metadata": {},
   "outputs": [],
   "source": [
    "def get_data(sql, config):\n",
    "    conn = pyodbc.connect('DRIVER={ODBC Driver 17 for SQL Server};SERVER=' + config['db_host'] +';DATABASE=' + config['db_name'] +';UID='+config['db_user'] +';PWD='+ config['db_password'] )\n",
    "    cursor = conn.cursor()\n",
    "\n",
    "    cursor.execute(sql)\n",
    "\n",
    "    result = cursor.fetchall()\n",
    "\n",
    "    headers = [column[0] for column in cursor.description]\n",
    "    \n",
    "    cursor.close()\n",
    "    conn.close()\n",
    "    \n",
    "    return result, headers"
   ]
  },
  {
   "cell_type": "code",
   "execution_count": 3,
   "id": "fe46f7e8-91a7-40a7-b8ab-3d4ed7385cd0",
   "metadata": {},
   "outputs": [],
   "source": [
    "with open('etl/config.json') as json_data:\n",
    "    config = json.load(json_data)\n",
    "\n",
    "with open(\"sql/get_data.sql\", \"r\") as f:\n",
    "    sql = f.read()"
   ]
  },
  {
   "cell_type": "code",
   "execution_count": 4,
   "id": "8f166d58-c9ba-4618-9de2-c303f771ffea",
   "metadata": {},
   "outputs": [],
   "source": [
    "result, headers = get_data(sql, config)"
   ]
  },
  {
   "cell_type": "code",
   "execution_count": 5,
   "id": "229b2bdf-d2f9-44b3-94e6-dc0e28c11e9d",
   "metadata": {},
   "outputs": [],
   "source": [
    "with open('auction_data.csv', 'w', newline='') as out:\n",
    "    csv_out = csv.writer(out)\n",
    "    csv_out.writerow(headers)\n",
    "    for row in result:\n",
    "        csv_out.writerow(row)"
   ]
  },
  {
   "cell_type": "markdown",
   "id": "f79c9cd0-02e5-482b-ae84-d42465861f3d",
   "metadata": {
    "tags": []
   },
   "source": [
    "## Read data from CSV and data preparation"
   ]
  },
  {
   "cell_type": "code",
   "execution_count": 6,
   "id": "7158ff83-c6d0-445a-9bcb-5d0aa6d3c387",
   "metadata": {},
   "outputs": [
    {
     "data": {
      "text/html": [
       "<div>\n",
       "<style scoped>\n",
       "    .dataframe tbody tr th:only-of-type {\n",
       "        vertical-align: middle;\n",
       "    }\n",
       "\n",
       "    .dataframe tbody tr th {\n",
       "        vertical-align: top;\n",
       "    }\n",
       "\n",
       "    .dataframe thead th {\n",
       "        text-align: right;\n",
       "    }\n",
       "</style>\n",
       "<table border=\"1\" class=\"dataframe\">\n",
       "  <thead>\n",
       "    <tr style=\"text-align: right;\">\n",
       "      <th></th>\n",
       "      <th>Id</th>\n",
       "      <th>ItemId</th>\n",
       "      <th>BidGold</th>\n",
       "      <th>BidSilver</th>\n",
       "      <th>BuyoutGold</th>\n",
       "      <th>BuyoutSilver</th>\n",
       "      <th>Quantity</th>\n",
       "      <th>TimeLeft</th>\n",
       "      <th>Rand</th>\n",
       "      <th>Seed</th>\n",
       "      <th>...</th>\n",
       "      <th>RequiredLevel</th>\n",
       "      <th>ItemClass</th>\n",
       "      <th>ItemSubClass</th>\n",
       "      <th>PurchasePriceGold</th>\n",
       "      <th>PurchasePriceSilver</th>\n",
       "      <th>SellPriceGold</th>\n",
       "      <th>SellPriceSilver</th>\n",
       "      <th>MaxCount</th>\n",
       "      <th>IsEquippable</th>\n",
       "      <th>IsStackable</th>\n",
       "    </tr>\n",
       "  </thead>\n",
       "  <tbody>\n",
       "    <tr>\n",
       "      <th>0</th>\n",
       "      <td>1420561355</td>\n",
       "      <td>3369</td>\n",
       "      <td>0</td>\n",
       "      <td>9</td>\n",
       "      <td>0</td>\n",
       "      <td>10</td>\n",
       "      <td>1</td>\n",
       "      <td>VERY_LONG</td>\n",
       "      <td>NaN</td>\n",
       "      <td>NaN</td>\n",
       "      <td>...</td>\n",
       "      <td>0</td>\n",
       "      <td>Trade Goods</td>\n",
       "      <td>Herb</td>\n",
       "      <td>0</td>\n",
       "      <td>1</td>\n",
       "      <td>0</td>\n",
       "      <td>0</td>\n",
       "      <td>0</td>\n",
       "      <td>False</td>\n",
       "      <td>True</td>\n",
       "    </tr>\n",
       "    <tr>\n",
       "      <th>1</th>\n",
       "      <td>1420708508</td>\n",
       "      <td>2632</td>\n",
       "      <td>0</td>\n",
       "      <td>99</td>\n",
       "      <td>1</td>\n",
       "      <td>49</td>\n",
       "      <td>1</td>\n",
       "      <td>VERY_LONG</td>\n",
       "      <td>1547.0</td>\n",
       "      <td>1.395594e+09</td>\n",
       "      <td>...</td>\n",
       "      <td>9</td>\n",
       "      <td>Weapon</td>\n",
       "      <td>Dagger</td>\n",
       "      <td>0</td>\n",
       "      <td>30</td>\n",
       "      <td>0</td>\n",
       "      <td>6</td>\n",
       "      <td>0</td>\n",
       "      <td>True</td>\n",
       "      <td>False</td>\n",
       "    </tr>\n",
       "    <tr>\n",
       "      <th>2</th>\n",
       "      <td>1420352186</td>\n",
       "      <td>2934</td>\n",
       "      <td>0</td>\n",
       "      <td>32</td>\n",
       "      <td>0</td>\n",
       "      <td>34</td>\n",
       "      <td>10</td>\n",
       "      <td>LONG</td>\n",
       "      <td>NaN</td>\n",
       "      <td>NaN</td>\n",
       "      <td>...</td>\n",
       "      <td>0</td>\n",
       "      <td>Trade Goods</td>\n",
       "      <td>Leather</td>\n",
       "      <td>0</td>\n",
       "      <td>0</td>\n",
       "      <td>0</td>\n",
       "      <td>0</td>\n",
       "      <td>0</td>\n",
       "      <td>False</td>\n",
       "      <td>True</td>\n",
       "    </tr>\n",
       "    <tr>\n",
       "      <th>3</th>\n",
       "      <td>1420555958</td>\n",
       "      <td>8150</td>\n",
       "      <td>0</td>\n",
       "      <td>26</td>\n",
       "      <td>0</td>\n",
       "      <td>28</td>\n",
       "      <td>1</td>\n",
       "      <td>VERY_LONG</td>\n",
       "      <td>NaN</td>\n",
       "      <td>NaN</td>\n",
       "      <td>...</td>\n",
       "      <td>0</td>\n",
       "      <td>Trade Goods</td>\n",
       "      <td>Leather</td>\n",
       "      <td>0</td>\n",
       "      <td>10</td>\n",
       "      <td>0</td>\n",
       "      <td>2</td>\n",
       "      <td>0</td>\n",
       "      <td>False</td>\n",
       "      <td>True</td>\n",
       "    </tr>\n",
       "    <tr>\n",
       "      <th>4</th>\n",
       "      <td>1419889906</td>\n",
       "      <td>5498</td>\n",
       "      <td>0</td>\n",
       "      <td>21</td>\n",
       "      <td>0</td>\n",
       "      <td>23</td>\n",
       "      <td>1</td>\n",
       "      <td>LONG</td>\n",
       "      <td>NaN</td>\n",
       "      <td>NaN</td>\n",
       "      <td>...</td>\n",
       "      <td>0</td>\n",
       "      <td>Gem</td>\n",
       "      <td>Simple</td>\n",
       "      <td>0</td>\n",
       "      <td>8</td>\n",
       "      <td>0</td>\n",
       "      <td>2</td>\n",
       "      <td>0</td>\n",
       "      <td>False</td>\n",
       "      <td>True</td>\n",
       "    </tr>\n",
       "    <tr>\n",
       "      <th>5</th>\n",
       "      <td>1420377502</td>\n",
       "      <td>3823</td>\n",
       "      <td>5</td>\n",
       "      <td>7</td>\n",
       "      <td>5</td>\n",
       "      <td>8</td>\n",
       "      <td>5</td>\n",
       "      <td>LONG</td>\n",
       "      <td>NaN</td>\n",
       "      <td>NaN</td>\n",
       "      <td>...</td>\n",
       "      <td>23</td>\n",
       "      <td>Consumable</td>\n",
       "      <td>Potion</td>\n",
       "      <td>0</td>\n",
       "      <td>4</td>\n",
       "      <td>0</td>\n",
       "      <td>1</td>\n",
       "      <td>0</td>\n",
       "      <td>False</td>\n",
       "      <td>True</td>\n",
       "    </tr>\n",
       "    <tr>\n",
       "      <th>6</th>\n",
       "      <td>1419746883</td>\n",
       "      <td>3818</td>\n",
       "      <td>0</td>\n",
       "      <td>7</td>\n",
       "      <td>0</td>\n",
       "      <td>7</td>\n",
       "      <td>1</td>\n",
       "      <td>LONG</td>\n",
       "      <td>NaN</td>\n",
       "      <td>NaN</td>\n",
       "      <td>...</td>\n",
       "      <td>0</td>\n",
       "      <td>Trade Goods</td>\n",
       "      <td>Herb</td>\n",
       "      <td>0</td>\n",
       "      <td>5</td>\n",
       "      <td>0</td>\n",
       "      <td>1</td>\n",
       "      <td>0</td>\n",
       "      <td>False</td>\n",
       "      <td>True</td>\n",
       "    </tr>\n",
       "    <tr>\n",
       "      <th>7</th>\n",
       "      <td>1420300160</td>\n",
       "      <td>5784</td>\n",
       "      <td>0</td>\n",
       "      <td>8</td>\n",
       "      <td>0</td>\n",
       "      <td>8</td>\n",
       "      <td>1</td>\n",
       "      <td>LONG</td>\n",
       "      <td>NaN</td>\n",
       "      <td>NaN</td>\n",
       "      <td>...</td>\n",
       "      <td>0</td>\n",
       "      <td>Trade Goods</td>\n",
       "      <td>Leather</td>\n",
       "      <td>0</td>\n",
       "      <td>3</td>\n",
       "      <td>0</td>\n",
       "      <td>0</td>\n",
       "      <td>0</td>\n",
       "      <td>False</td>\n",
       "      <td>True</td>\n",
       "    </tr>\n",
       "    <tr>\n",
       "      <th>8</th>\n",
       "      <td>1420350036</td>\n",
       "      <td>10998</td>\n",
       "      <td>1</td>\n",
       "      <td>12</td>\n",
       "      <td>1</td>\n",
       "      <td>16</td>\n",
       "      <td>1</td>\n",
       "      <td>LONG</td>\n",
       "      <td>NaN</td>\n",
       "      <td>NaN</td>\n",
       "      <td>...</td>\n",
       "      <td>0</td>\n",
       "      <td>Trade Goods</td>\n",
       "      <td>Enchanting</td>\n",
       "      <td>0</td>\n",
       "      <td>30</td>\n",
       "      <td>0</td>\n",
       "      <td>0</td>\n",
       "      <td>0</td>\n",
       "      <td>False</td>\n",
       "      <td>True</td>\n",
       "    </tr>\n",
       "    <tr>\n",
       "      <th>9</th>\n",
       "      <td>1420765058</td>\n",
       "      <td>7909</td>\n",
       "      <td>0</td>\n",
       "      <td>12</td>\n",
       "      <td>911</td>\n",
       "      <td>21</td>\n",
       "      <td>1</td>\n",
       "      <td>VERY_LONG</td>\n",
       "      <td>NaN</td>\n",
       "      <td>NaN</td>\n",
       "      <td>...</td>\n",
       "      <td>0</td>\n",
       "      <td>Gem</td>\n",
       "      <td>Simple</td>\n",
       "      <td>0</td>\n",
       "      <td>40</td>\n",
       "      <td>0</td>\n",
       "      <td>10</td>\n",
       "      <td>0</td>\n",
       "      <td>False</td>\n",
       "      <td>True</td>\n",
       "    </tr>\n",
       "  </tbody>\n",
       "</table>\n",
       "<p>10 rows × 28 columns</p>\n",
       "</div>"
      ],
      "text/plain": [
       "           Id  ItemId  BidGold  BidSilver  BuyoutGold  BuyoutSilver  Quantity  \\\n",
       "0  1420561355    3369        0          9           0            10         1   \n",
       "1  1420708508    2632        0         99           1            49         1   \n",
       "2  1420352186    2934        0         32           0            34        10   \n",
       "3  1420555958    8150        0         26           0            28         1   \n",
       "4  1419889906    5498        0         21           0            23         1   \n",
       "5  1420377502    3823        5          7           5             8         5   \n",
       "6  1419746883    3818        0          7           0             7         1   \n",
       "7  1420300160    5784        0          8           0             8         1   \n",
       "8  1420350036   10998        1         12           1            16         1   \n",
       "9  1420765058    7909        0         12         911            21         1   \n",
       "\n",
       "    TimeLeft    Rand          Seed  ...  RequiredLevel    ItemClass  \\\n",
       "0  VERY_LONG     NaN           NaN  ...              0  Trade Goods   \n",
       "1  VERY_LONG  1547.0  1.395594e+09  ...              9       Weapon   \n",
       "2       LONG     NaN           NaN  ...              0  Trade Goods   \n",
       "3  VERY_LONG     NaN           NaN  ...              0  Trade Goods   \n",
       "4       LONG     NaN           NaN  ...              0          Gem   \n",
       "5       LONG     NaN           NaN  ...             23   Consumable   \n",
       "6       LONG     NaN           NaN  ...              0  Trade Goods   \n",
       "7       LONG     NaN           NaN  ...              0  Trade Goods   \n",
       "8       LONG     NaN           NaN  ...              0  Trade Goods   \n",
       "9  VERY_LONG     NaN           NaN  ...              0          Gem   \n",
       "\n",
       "   ItemSubClass  PurchasePriceGold  PurchasePriceSilver SellPriceGold  \\\n",
       "0          Herb                  0                    1             0   \n",
       "1        Dagger                  0                   30             0   \n",
       "2       Leather                  0                    0             0   \n",
       "3       Leather                  0                   10             0   \n",
       "4        Simple                  0                    8             0   \n",
       "5        Potion                  0                    4             0   \n",
       "6          Herb                  0                    5             0   \n",
       "7       Leather                  0                    3             0   \n",
       "8    Enchanting                  0                   30             0   \n",
       "9        Simple                  0                   40             0   \n",
       "\n",
       "  SellPriceSilver  MaxCount  IsEquippable IsStackable  \n",
       "0               0         0         False        True  \n",
       "1               6         0          True       False  \n",
       "2               0         0         False        True  \n",
       "3               2         0         False        True  \n",
       "4               2         0         False        True  \n",
       "5               1         0         False        True  \n",
       "6               1         0         False        True  \n",
       "7               0         0         False        True  \n",
       "8               0         0         False        True  \n",
       "9              10         0         False        True  \n",
       "\n",
       "[10 rows x 28 columns]"
      ]
     },
     "execution_count": 6,
     "metadata": {},
     "output_type": "execute_result"
    }
   ],
   "source": [
    "df = pd.read_csv('auction_data.csv')\n",
    "df.head(10)"
   ]
  },
  {
   "cell_type": "code",
   "execution_count": 7,
   "id": "21ffe038-310a-4466-a84c-8aa4e18274b3",
   "metadata": {},
   "outputs": [
    {
     "data": {
      "text/plain": [
       "(25126, 28)"
      ]
     },
     "execution_count": 7,
     "metadata": {},
     "output_type": "execute_result"
    }
   ],
   "source": [
    "df.shape"
   ]
  },
  {
   "cell_type": "code",
   "execution_count": 8,
   "id": "dd1596e3-2bf2-4e4a-a2da-73dfec58b60b",
   "metadata": {},
   "outputs": [
    {
     "data": {
      "text/plain": [
       "VERY_LONG    13301\n",
       "LONG          9925\n",
       "SHORT         1183\n",
       "MEDIUM         717\n",
       "Name: TimeLeft, dtype: int64"
      ]
     },
     "execution_count": 8,
     "metadata": {},
     "output_type": "execute_result"
    }
   ],
   "source": [
    "df['TimeLeft'].value_counts()"
   ]
  },
  {
   "cell_type": "markdown",
   "id": "80cf4f3d-b4ba-443f-95a3-01537da39524",
   "metadata": {},
   "source": [
    "### Since we can't know if an item was sold or just expired, we'll focus on VERY_LONG time left items (between 12 and 48 hours left)"
   ]
  },
  {
   "cell_type": "code",
   "execution_count": 9,
   "id": "e49c4929-8854-4e40-993b-3467c323c8bd",
   "metadata": {},
   "outputs": [],
   "source": [
    "df = df[df['TimeLeft'] == 'VERY_LONG']"
   ]
  },
  {
   "cell_type": "code",
   "execution_count": 10,
   "id": "ff4e611b-6bfc-40bf-85da-1ddd7fde19e9",
   "metadata": {},
   "outputs": [],
   "source": [
    "df.loc[:,'Sold'] = df['TimesSeen'] <= 45"
   ]
  },
  {
   "cell_type": "code",
   "execution_count": 11,
   "id": "202a2db2-85ca-44da-ba12-de3759807b96",
   "metadata": {},
   "outputs": [
    {
     "data": {
      "text/html": [
       "<div>\n",
       "<style scoped>\n",
       "    .dataframe tbody tr th:only-of-type {\n",
       "        vertical-align: middle;\n",
       "    }\n",
       "\n",
       "    .dataframe tbody tr th {\n",
       "        vertical-align: top;\n",
       "    }\n",
       "\n",
       "    .dataframe thead th {\n",
       "        text-align: right;\n",
       "    }\n",
       "</style>\n",
       "<table border=\"1\" class=\"dataframe\">\n",
       "  <thead>\n",
       "    <tr style=\"text-align: right;\">\n",
       "      <th></th>\n",
       "      <th>Id</th>\n",
       "      <th>ItemName</th>\n",
       "      <th>Quantity</th>\n",
       "      <th>TimeLeft</th>\n",
       "      <th>ItemClass</th>\n",
       "      <th>TimesSeen</th>\n",
       "      <th>Sold</th>\n",
       "    </tr>\n",
       "  </thead>\n",
       "  <tbody>\n",
       "    <tr>\n",
       "      <th>0</th>\n",
       "      <td>1420561355</td>\n",
       "      <td>Grave Moss</td>\n",
       "      <td>1</td>\n",
       "      <td>VERY_LONG</td>\n",
       "      <td>Trade Goods</td>\n",
       "      <td>17</td>\n",
       "      <td>True</td>\n",
       "    </tr>\n",
       "    <tr>\n",
       "      <th>1</th>\n",
       "      <td>1420708508</td>\n",
       "      <td>Curved Dagger</td>\n",
       "      <td>1</td>\n",
       "      <td>VERY_LONG</td>\n",
       "      <td>Weapon</td>\n",
       "      <td>19</td>\n",
       "      <td>True</td>\n",
       "    </tr>\n",
       "    <tr>\n",
       "      <th>3</th>\n",
       "      <td>1420555958</td>\n",
       "      <td>Deeprock Salt</td>\n",
       "      <td>1</td>\n",
       "      <td>VERY_LONG</td>\n",
       "      <td>Trade Goods</td>\n",
       "      <td>17</td>\n",
       "      <td>True</td>\n",
       "    </tr>\n",
       "    <tr>\n",
       "      <th>9</th>\n",
       "      <td>1420765058</td>\n",
       "      <td>Aquamarine</td>\n",
       "      <td>1</td>\n",
       "      <td>VERY_LONG</td>\n",
       "      <td>Gem</td>\n",
       "      <td>17</td>\n",
       "      <td>True</td>\n",
       "    </tr>\n",
       "    <tr>\n",
       "      <th>11</th>\n",
       "      <td>1420555779</td>\n",
       "      <td>Silk Cloth</td>\n",
       "      <td>1</td>\n",
       "      <td>VERY_LONG</td>\n",
       "      <td>Trade Goods</td>\n",
       "      <td>11</td>\n",
       "      <td>True</td>\n",
       "    </tr>\n",
       "    <tr>\n",
       "      <th>14</th>\n",
       "      <td>1420562428</td>\n",
       "      <td>Grave Moss</td>\n",
       "      <td>1</td>\n",
       "      <td>VERY_LONG</td>\n",
       "      <td>Trade Goods</td>\n",
       "      <td>17</td>\n",
       "      <td>True</td>\n",
       "    </tr>\n",
       "    <tr>\n",
       "      <th>16</th>\n",
       "      <td>1420552958</td>\n",
       "      <td>Shadow Silk</td>\n",
       "      <td>1</td>\n",
       "      <td>VERY_LONG</td>\n",
       "      <td>Trade Goods</td>\n",
       "      <td>17</td>\n",
       "      <td>True</td>\n",
       "    </tr>\n",
       "    <tr>\n",
       "      <th>18</th>\n",
       "      <td>1420816319</td>\n",
       "      <td>Talon of Vultros</td>\n",
       "      <td>1</td>\n",
       "      <td>VERY_LONG</td>\n",
       "      <td>Weapon</td>\n",
       "      <td>20</td>\n",
       "      <td>True</td>\n",
       "    </tr>\n",
       "    <tr>\n",
       "      <th>19</th>\n",
       "      <td>1420902469</td>\n",
       "      <td>Bronze Tube</td>\n",
       "      <td>10</td>\n",
       "      <td>VERY_LONG</td>\n",
       "      <td>Trade Goods</td>\n",
       "      <td>21</td>\n",
       "      <td>True</td>\n",
       "    </tr>\n",
       "    <tr>\n",
       "      <th>20</th>\n",
       "      <td>1420917057</td>\n",
       "      <td>Peacebloom</td>\n",
       "      <td>20</td>\n",
       "      <td>VERY_LONG</td>\n",
       "      <td>Trade Goods</td>\n",
       "      <td>21</td>\n",
       "      <td>True</td>\n",
       "    </tr>\n",
       "  </tbody>\n",
       "</table>\n",
       "</div>"
      ],
      "text/plain": [
       "            Id          ItemName  Quantity   TimeLeft    ItemClass  TimesSeen  \\\n",
       "0   1420561355        Grave Moss         1  VERY_LONG  Trade Goods         17   \n",
       "1   1420708508     Curved Dagger         1  VERY_LONG       Weapon         19   \n",
       "3   1420555958     Deeprock Salt         1  VERY_LONG  Trade Goods         17   \n",
       "9   1420765058        Aquamarine         1  VERY_LONG          Gem         17   \n",
       "11  1420555779        Silk Cloth         1  VERY_LONG  Trade Goods         11   \n",
       "14  1420562428        Grave Moss         1  VERY_LONG  Trade Goods         17   \n",
       "16  1420552958       Shadow Silk         1  VERY_LONG  Trade Goods         17   \n",
       "18  1420816319  Talon of Vultros         1  VERY_LONG       Weapon         20   \n",
       "19  1420902469       Bronze Tube        10  VERY_LONG  Trade Goods         21   \n",
       "20  1420917057        Peacebloom        20  VERY_LONG  Trade Goods         21   \n",
       "\n",
       "    Sold  \n",
       "0   True  \n",
       "1   True  \n",
       "3   True  \n",
       "9   True  \n",
       "11  True  \n",
       "14  True  \n",
       "16  True  \n",
       "18  True  \n",
       "19  True  \n",
       "20  True  "
      ]
     },
     "execution_count": 11,
     "metadata": {},
     "output_type": "execute_result"
    }
   ],
   "source": [
    "columns = ['Id', 'ItemName', 'Quantity', 'TimeLeft', 'ItemClass', 'TimesSeen', 'Sold']\n",
    "df[columns].head(10)"
   ]
  },
  {
   "cell_type": "markdown",
   "id": "06c6813a-d05d-41eb-9ec1-996488b7c190",
   "metadata": {
    "tags": []
   },
   "source": [
    "## Exploratory Data Analysis"
   ]
  },
  {
   "cell_type": "code",
   "execution_count": 12,
   "id": "e3e09191-838a-440b-a6a1-34a86b9a9152",
   "metadata": {},
   "outputs": [
    {
     "name": "stdout",
     "output_type": "stream",
     "text": [
      "<class 'pandas.core.frame.DataFrame'>\n",
      "Int64Index: 13301 entries, 0 to 25125\n",
      "Data columns (total 29 columns):\n",
      " #   Column               Non-Null Count  Dtype  \n",
      "---  ------               --------------  -----  \n",
      " 0   Id                   13301 non-null  int64  \n",
      " 1   ItemId               13301 non-null  int64  \n",
      " 2   BidGold              13301 non-null  int64  \n",
      " 3   BidSilver            13301 non-null  int64  \n",
      " 4   BuyoutGold           13301 non-null  int64  \n",
      " 5   BuyoutSilver         13301 non-null  int64  \n",
      " 6   Quantity             13301 non-null  int64  \n",
      " 7   TimeLeft             13301 non-null  object \n",
      " 8   Rand                 625 non-null    float64\n",
      " 9   Seed                 625 non-null    float64\n",
      " 10  FirstTimeSeenYear    13301 non-null  int64  \n",
      " 11  FirstTimeSeenMonth   13301 non-null  int64  \n",
      " 12  FirstTimeSeenDay     13301 non-null  int64  \n",
      " 13  FirstTimeSeenHour    13301 non-null  int64  \n",
      " 14  TimesSeen            13301 non-null  int64  \n",
      " 15  ItemName             13301 non-null  object \n",
      " 16  Quality              13301 non-null  object \n",
      " 17  Level                13301 non-null  int64  \n",
      " 18  RequiredLevel        13301 non-null  int64  \n",
      " 19  ItemClass            13301 non-null  object \n",
      " 20  ItemSubClass         13301 non-null  object \n",
      " 21  PurchasePriceGold    13301 non-null  int64  \n",
      " 22  PurchasePriceSilver  13301 non-null  int64  \n",
      " 23  SellPriceGold        13301 non-null  int64  \n",
      " 24  SellPriceSilver      13301 non-null  int64  \n",
      " 25  MaxCount             13301 non-null  int64  \n",
      " 26  IsEquippable         13301 non-null  bool   \n",
      " 27  IsStackable          13301 non-null  bool   \n",
      " 28  Sold                 13301 non-null  bool   \n",
      "dtypes: bool(3), float64(2), int64(19), object(5)\n",
      "memory usage: 2.8+ MB\n"
     ]
    }
   ],
   "source": [
    "df.info()"
   ]
  },
  {
   "cell_type": "code",
   "execution_count": 13,
   "id": "4855138e-43c1-42f1-84cb-199c643c2657",
   "metadata": {},
   "outputs": [
    {
     "data": {
      "text/html": [
       "<div>\n",
       "<style scoped>\n",
       "    .dataframe tbody tr th:only-of-type {\n",
       "        vertical-align: middle;\n",
       "    }\n",
       "\n",
       "    .dataframe tbody tr th {\n",
       "        vertical-align: top;\n",
       "    }\n",
       "\n",
       "    .dataframe thead th {\n",
       "        text-align: right;\n",
       "    }\n",
       "</style>\n",
       "<table border=\"1\" class=\"dataframe\">\n",
       "  <thead>\n",
       "    <tr style=\"text-align: right;\">\n",
       "      <th></th>\n",
       "      <th>BidGold</th>\n",
       "      <th>BidSilver</th>\n",
       "      <th>BuyoutGold</th>\n",
       "      <th>BuyoutSilver</th>\n",
       "      <th>Quantity</th>\n",
       "      <th>TimesSeen</th>\n",
       "    </tr>\n",
       "  </thead>\n",
       "  <tbody>\n",
       "    <tr>\n",
       "      <th>count</th>\n",
       "      <td>13301.000000</td>\n",
       "      <td>13301.000000</td>\n",
       "      <td>13301.000000</td>\n",
       "      <td>13301.000000</td>\n",
       "      <td>13301.000000</td>\n",
       "      <td>13301.000000</td>\n",
       "    </tr>\n",
       "    <tr>\n",
       "      <th>mean</th>\n",
       "      <td>10.849184</td>\n",
       "      <td>38.155101</td>\n",
       "      <td>27.624164</td>\n",
       "      <td>44.196677</td>\n",
       "      <td>6.318247</td>\n",
       "      <td>21.983234</td>\n",
       "    </tr>\n",
       "    <tr>\n",
       "      <th>std</th>\n",
       "      <td>266.723136</td>\n",
       "      <td>32.966672</td>\n",
       "      <td>843.148621</td>\n",
       "      <td>35.654269</td>\n",
       "      <td>11.486140</td>\n",
       "      <td>14.844095</td>\n",
       "    </tr>\n",
       "    <tr>\n",
       "      <th>min</th>\n",
       "      <td>0.000000</td>\n",
       "      <td>0.000000</td>\n",
       "      <td>0.000000</td>\n",
       "      <td>0.000000</td>\n",
       "      <td>1.000000</td>\n",
       "      <td>1.000000</td>\n",
       "    </tr>\n",
       "    <tr>\n",
       "      <th>25%</th>\n",
       "      <td>0.000000</td>\n",
       "      <td>6.000000</td>\n",
       "      <td>0.000000</td>\n",
       "      <td>9.000000</td>\n",
       "      <td>1.000000</td>\n",
       "      <td>7.000000</td>\n",
       "    </tr>\n",
       "    <tr>\n",
       "      <th>50%</th>\n",
       "      <td>1.000000</td>\n",
       "      <td>34.000000</td>\n",
       "      <td>1.000000</td>\n",
       "      <td>41.000000</td>\n",
       "      <td>1.000000</td>\n",
       "      <td>22.000000</td>\n",
       "    </tr>\n",
       "    <tr>\n",
       "      <th>75%</th>\n",
       "      <td>5.000000</td>\n",
       "      <td>66.000000</td>\n",
       "      <td>6.000000</td>\n",
       "      <td>79.000000</td>\n",
       "      <td>10.000000</td>\n",
       "      <td>31.000000</td>\n",
       "    </tr>\n",
       "    <tr>\n",
       "      <th>max</th>\n",
       "      <td>16401.000000</td>\n",
       "      <td>99.000000</td>\n",
       "      <td>90000.000000</td>\n",
       "      <td>99.000000</td>\n",
       "      <td>200.000000</td>\n",
       "      <td>51.000000</td>\n",
       "    </tr>\n",
       "  </tbody>\n",
       "</table>\n",
       "</div>"
      ],
      "text/plain": [
       "            BidGold     BidSilver    BuyoutGold  BuyoutSilver      Quantity  \\\n",
       "count  13301.000000  13301.000000  13301.000000  13301.000000  13301.000000   \n",
       "mean      10.849184     38.155101     27.624164     44.196677      6.318247   \n",
       "std      266.723136     32.966672    843.148621     35.654269     11.486140   \n",
       "min        0.000000      0.000000      0.000000      0.000000      1.000000   \n",
       "25%        0.000000      6.000000      0.000000      9.000000      1.000000   \n",
       "50%        1.000000     34.000000      1.000000     41.000000      1.000000   \n",
       "75%        5.000000     66.000000      6.000000     79.000000     10.000000   \n",
       "max    16401.000000     99.000000  90000.000000     99.000000    200.000000   \n",
       "\n",
       "          TimesSeen  \n",
       "count  13301.000000  \n",
       "mean      21.983234  \n",
       "std       14.844095  \n",
       "min        1.000000  \n",
       "25%        7.000000  \n",
       "50%       22.000000  \n",
       "75%       31.000000  \n",
       "max       51.000000  "
      ]
     },
     "execution_count": 13,
     "metadata": {},
     "output_type": "execute_result"
    }
   ],
   "source": [
    "columns = ['BidGold', 'BidSilver', 'BuyoutGold', 'BuyoutSilver', 'Quantity', 'TimesSeen', 'IsEquippable']\n",
    "df[columns].describe()"
   ]
  },
  {
   "cell_type": "markdown",
   "id": "57cf6946-5ea8-4fb3-bedf-8b391027be9c",
   "metadata": {},
   "source": [
    "## Percentage of items sold"
   ]
  },
  {
   "cell_type": "code",
   "execution_count": 14,
   "id": "5eb58610-a1f4-48a8-8d83-28a1c084c01b",
   "metadata": {},
   "outputs": [
    {
     "data": {
      "image/png": "[encoded data removed]",
      "text/plain": [
       "<Figure size 360x360 with 1 Axes>"
      ]
     },
     "metadata": {
      "needs_background": "light"
     },
     "output_type": "display_data"
    }
   ],
   "source": [
    "df_count = df['Sold'].value_counts(normalize=True)\n",
    "df_count = df_count.mul(100)\n",
    "df_count = df_count.rename('Percent').reset_index()\n",
    "df_count['Sold'] = df_count['index'] \n",
    "\n",
    "g = sns.catplot(x='Sold', y='Percent', kind='bar', data=df_count)\n",
    "for p in g.ax.patches:\n",
    "    txt = str(p.get_height().round(2)) + '%'\n",
    "    txt_x = p.get_x()\n",
    "    txt_y = p.get_height() + 3\n",
    "    g.ax.text(txt_x,txt_y,txt)"
   ]
  },
  {
   "cell_type": "markdown",
   "id": "a82083b9-9ca4-4156-9fb3-52e1cd396bdf",
   "metadata": {},
   "source": [
    "## Most popular Item"
   ]
  },
  {
   "cell_type": "code",
   "execution_count": 15,
   "id": "e85e0b12-e8fb-4392-8e6b-dc41fda27e81",
   "metadata": {},
   "outputs": [
    {
     "name": "stdout",
     "output_type": "stream",
     "text": [
      "                    ItemName  Counts\n",
      "1418              Wool Cloth     513\n",
      "702            Light Leather     352\n",
      "738           Medium Leather     266\n",
      "1176              Silk Cloth     210\n",
      "718          Mageweave Cloth     200\n",
      "1372             Vision Dust     178\n",
      "1076  Savory Deviate Delight     150\n",
      "1067          Rugged Leather     139\n",
      "704              Linen Cloth     130\n",
      "1061             Rough Stone     130\n"
     ]
    },
    {
     "data": {
      "image/png": "[encoded data removed]",
      "text/plain": [
       "<Figure size 432x288 with 1 Axes>"
      ]
     },
     "metadata": {
      "needs_background": "light"
     },
     "output_type": "display_data"
    }
   ],
   "source": [
    "items_sold = df[df['Sold'] == 1]\n",
    "\n",
    "count_items = items_sold.groupby(['ItemName']).size().reset_index(name='Counts')\n",
    "count_items = count_items.sort_values(by=['Counts'], ascending=False)\n",
    "\n",
    "print(count_items.head(10))\n",
    "\n",
    "plot = sns.barplot(x='ItemName', y='Counts', data=count_items[:10])\n",
    "for item in plot.get_xticklabels():\n",
    "    item.set_rotation(45)"
   ]
  },
  {
   "cell_type": "markdown",
   "id": "ce74137e-879c-4c7f-842d-3aa81872e040",
   "metadata": {},
   "source": [
    "## Most popular Item Class"
   ]
  },
  {
   "cell_type": "code",
   "execution_count": 16,
   "id": "beee4b10-43c9-4cdf-ab35-00d46ea686cc",
   "metadata": {},
   "outputs": [
    {
     "name": "stdout",
     "output_type": "stream",
     "text": [
      "        ItemClass  Counts\n",
      "9     Trade Goods    7303\n",
      "1      Consumable    1812\n",
      "0           Armor    1179\n",
      "3             Gem     457\n",
      "8          Recipe     396\n",
      "10         Weapon     382\n",
      "6           Quest     375\n",
      "4   Miscellaneous      90\n",
      "2       Container      83\n",
      "5      Projectile      27\n",
      "7          Quiver       6\n"
     ]
    },
    {
     "data": {
      "image/png": "[encoded data removed]",
      "text/plain": [
       "<Figure size 432x288 with 1 Axes>"
      ]
     },
     "metadata": {
      "needs_background": "light"
     },
     "output_type": "display_data"
    }
   ],
   "source": [
    "items_sold = df[df['Sold'] == 1]\n",
    "\n",
    "count_items = items_sold.groupby(['ItemClass']).size().reset_index(name='Counts')\n",
    "count_items = count_items.sort_values(by=['Counts'], ascending=False)\n",
    "\n",
    "print(count_items.head(100))\n",
    "\n",
    "plot = sns.barplot(x='ItemClass', y='Counts', data=count_items[:5])\n",
    "for item in plot.get_xticklabels():\n",
    "    item.set_rotation(45)"
   ]
  },
  {
   "cell_type": "markdown",
   "id": "da29b0d5-186b-4175-b5e2-d13569a9c81b",
   "metadata": {},
   "source": [
    "## Most popular Item Subclass"
   ]
  },
  {
   "cell_type": "code",
   "execution_count": 17,
   "id": "c5212203-f50f-4198-8c39-4a1d013b0d4a",
   "metadata": {},
   "outputs": [
    {
     "name": "stdout",
     "output_type": "stream",
     "text": [
      "     ItemSubClass  Counts\n",
      "9           Cloth    1614\n",
      "30  Metal & Stone    1601\n",
      "25        Leather    1573\n",
      "16     Enchanting    1050\n",
      "22           Herb     741\n",
      "15         Elixir     520\n",
      "37         Potion     514\n",
      "29           Meat     471\n",
      "43         Simple     457\n",
      "38          Quest     375\n"
     ]
    },
    {
     "data": {
      "image/png": "[encoded data removed]",
      "text/plain": [
       "<Figure size 432x288 with 1 Axes>"
      ]
     },
     "metadata": {
      "needs_background": "light"
     },
     "output_type": "display_data"
    }
   ],
   "source": [
    "items_sold = df[df['Sold'] == 1]\n",
    "\n",
    "count_items = items_sold.groupby(['ItemSubClass']).size().reset_index(name='Counts')\n",
    "count_items = count_items.sort_values(by=['Counts'], ascending=False)\n",
    "\n",
    "print(count_items.head(10))\n",
    "\n",
    "plot = sns.barplot(x='ItemSubClass', y='Counts', data=count_items[:10])\n",
    "for item in plot.get_xticklabels():\n",
    "    item.set_rotation(45)"
   ]
  },
  {
   "cell_type": "markdown",
   "id": "ed61cba1-0e8f-4dbf-a0c8-366b2063c2b0",
   "metadata": {},
   "source": [
    "## Most sold quality tipe"
   ]
  },
  {
   "cell_type": "code",
   "execution_count": 18,
   "id": "74a488a7-3411-4a36-913d-fb651879d9c8",
   "metadata": {},
   "outputs": [
    {
     "name": "stdout",
     "output_type": "stream",
     "text": [
      "    Quality  Counts\n",
      "0    Common    8951\n",
      "4  Uncommon    2650\n",
      "3      Rare     425\n",
      "1      Epic      43\n",
      "2      Poor      41\n"
     ]
    },
    {
     "data": {
      "image/png": "[encoded data removed]",
      "text/plain": [
       "<Figure size 432x288 with 1 Axes>"
      ]
     },
     "metadata": {
      "needs_background": "light"
     },
     "output_type": "display_data"
    }
   ],
   "source": [
    "items_sold = df[df['Sold'] == 1]\n",
    "\n",
    "count_items = items_sold.groupby(['Quality']).size().reset_index(name='Counts')\n",
    "count_items = count_items.sort_values(by=['Counts'], ascending=False)\n",
    "\n",
    "print(count_items.head(10))\n",
    "\n",
    "plot = sns.barplot(x='Quality', y='Counts', data=count_items[:10])\n",
    "for item in plot.get_xticklabels():\n",
    "    item.set_rotation(45)"
   ]
  },
  {
   "cell_type": "markdown",
   "id": "fac657f8-933d-41d5-9a28-4228037a34c8",
   "metadata": {},
   "source": [
    "## Are most sold items equippable?"
   ]
  },
  {
   "cell_type": "code",
   "execution_count": 19,
   "id": "e85014aa-24f5-45db-8209-f4ed270c6ae3",
   "metadata": {},
   "outputs": [
    {
     "name": "stdout",
     "output_type": "stream",
     "text": [
      "   IsEquippable  Counts\n",
      "0         False   10426\n",
      "1          True    1684\n"
     ]
    },
    {
     "data": {
      "image/png": "[encoded data removed]",
      "text/plain": [
       "<Figure size 432x288 with 1 Axes>"
      ]
     },
     "metadata": {
      "needs_background": "light"
     },
     "output_type": "display_data"
    }
   ],
   "source": [
    "items_sold = df[df['Sold'] == 1]\n",
    "\n",
    "count_items = items_sold.groupby(['IsEquippable']).size().reset_index(name='Counts')\n",
    "count_items = count_items.sort_values(by=['Counts'], ascending=False)[:10]\n",
    "\n",
    "print(count_items.head())\n",
    "\n",
    "plot = sns.barplot(x='IsEquippable', y='Counts', data=count_items)"
   ]
  },
  {
   "cell_type": "markdown",
   "id": "0b1ba0ba-3e40-4400-8184-386218f08b99",
   "metadata": {},
   "source": [
    "## Best week day to sell"
   ]
  },
  {
   "cell_type": "code",
   "execution_count": 20,
   "id": "5321eeb6-c23e-4d56-a869-bd17c9af8f95",
   "metadata": {},
   "outputs": [
    {
     "name": "stdout",
     "output_type": "stream",
     "text": [
      "   WeekDay  Counts\n",
      "0        5   12271\n",
      "1        6    1030\n"
     ]
    },
    {
     "data": {
      "image/png": "[encoded data removed]",
      "text/plain": [
       "<Figure size 432x288 with 1 Axes>"
      ]
     },
     "metadata": {
      "needs_background": "light"
     },
     "output_type": "display_data"
    }
   ],
   "source": [
    "import datetime\n",
    "\n",
    "df['WeekDay'] = df.apply(lambda row: datetime.datetime(row['FirstTimeSeenYear'], row['FirstTimeSeenMonth'], row['FirstTimeSeenDay']).weekday(), axis=1)\n",
    "\n",
    "count_items = df.groupby(['WeekDay']).size().reset_index(name='Counts')\n",
    "count_items = count_items.sort_values(by=['Counts'], ascending=False)[:10]\n",
    "\n",
    "print(count_items.head(10))\n",
    "\n",
    "plot = sns.barplot(x='WeekDay', y='Counts', data=count_items)"
   ]
  }
 ],
 "metadata": {
  "kernelspec": {
   "display_name": "Python 3",
   "language": "python",
   "name": "python3"
  },
  "language_info": {
   "codemirror_mode": {
    "name": "ipython",
    "version": 3
   },
   "file_extension": ".py",
   "mimetype": "text/x-python",
   "name": "python",
   "nbconvert_exporter": "python",
   "pygments_lexer": "ipython3",
   "version": "3.8.8"
  }
 },
 "nbformat": 4,
 "nbformat_minor": 5
}
